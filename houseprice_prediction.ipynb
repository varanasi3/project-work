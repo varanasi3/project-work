{
 "cells": [
  {
   "cell_type": "markdown",
   "id": "9c4ab0b2",
   "metadata": {},
   "source": [
    "## Name: V . Sai Kumar\n",
    "## Regd No :22235\n",
    "\n"
   ]
  },
  {
   "cell_type": "code",
   "execution_count": null,
   "id": "ba58cd07",
   "metadata": {},
   "outputs": [],
   "source": [
    "import pandas as pd"
   ]
  },
  {
   "cell_type": "code",
   "execution_count": 4,
   "id": "145d2667",
   "metadata": {},
   "outputs": [],
   "source": [
    "df = pd.read_csv('train.csv')"
   ]
  },
  {
   "cell_type": "code",
   "execution_count": 5,
   "id": "a425d864",
   "metadata": {},
   "outputs": [
    {
     "data": {
      "text/html": [
       "<div>\n",
       "<style scoped>\n",
       "    .dataframe tbody tr th:only-of-type {\n",
       "        vertical-align: middle;\n",
       "    }\n",
       "\n",
       "    .dataframe tbody tr th {\n",
       "        vertical-align: top;\n",
       "    }\n",
       "\n",
       "    .dataframe thead th {\n",
       "        text-align: right;\n",
       "    }\n",
       "</style>\n",
       "<table border=\"1\" class=\"dataframe\">\n",
       "  <thead>\n",
       "    <tr style=\"text-align: right;\">\n",
       "      <th></th>\n",
       "      <th>Id</th>\n",
       "      <th>MSSubClass</th>\n",
       "      <th>MSZoning</th>\n",
       "      <th>LotFrontage</th>\n",
       "      <th>LotArea</th>\n",
       "      <th>Street</th>\n",
       "      <th>Alley</th>\n",
       "      <th>LotShape</th>\n",
       "      <th>LandContour</th>\n",
       "      <th>Utilities</th>\n",
       "      <th>...</th>\n",
       "      <th>PoolArea</th>\n",
       "      <th>PoolQC</th>\n",
       "      <th>Fence</th>\n",
       "      <th>MiscFeature</th>\n",
       "      <th>MiscVal</th>\n",
       "      <th>MoSold</th>\n",
       "      <th>YrSold</th>\n",
       "      <th>SaleType</th>\n",
       "      <th>SaleCondition</th>\n",
       "      <th>SalePrice</th>\n",
       "    </tr>\n",
       "  </thead>\n",
       "  <tbody>\n",
       "    <tr>\n",
       "      <th>0</th>\n",
       "      <td>1</td>\n",
       "      <td>60</td>\n",
       "      <td>RL</td>\n",
       "      <td>65.0</td>\n",
       "      <td>8450</td>\n",
       "      <td>Pave</td>\n",
       "      <td>NaN</td>\n",
       "      <td>Reg</td>\n",
       "      <td>Lvl</td>\n",
       "      <td>AllPub</td>\n",
       "      <td>...</td>\n",
       "      <td>0</td>\n",
       "      <td>NaN</td>\n",
       "      <td>NaN</td>\n",
       "      <td>NaN</td>\n",
       "      <td>0</td>\n",
       "      <td>2</td>\n",
       "      <td>2008</td>\n",
       "      <td>WD</td>\n",
       "      <td>Normal</td>\n",
       "      <td>208500</td>\n",
       "    </tr>\n",
       "    <tr>\n",
       "      <th>1</th>\n",
       "      <td>2</td>\n",
       "      <td>20</td>\n",
       "      <td>RL</td>\n",
       "      <td>80.0</td>\n",
       "      <td>9600</td>\n",
       "      <td>Pave</td>\n",
       "      <td>NaN</td>\n",
       "      <td>Reg</td>\n",
       "      <td>Lvl</td>\n",
       "      <td>AllPub</td>\n",
       "      <td>...</td>\n",
       "      <td>0</td>\n",
       "      <td>NaN</td>\n",
       "      <td>NaN</td>\n",
       "      <td>NaN</td>\n",
       "      <td>0</td>\n",
       "      <td>5</td>\n",
       "      <td>2007</td>\n",
       "      <td>WD</td>\n",
       "      <td>Normal</td>\n",
       "      <td>181500</td>\n",
       "    </tr>\n",
       "    <tr>\n",
       "      <th>2</th>\n",
       "      <td>3</td>\n",
       "      <td>60</td>\n",
       "      <td>RL</td>\n",
       "      <td>68.0</td>\n",
       "      <td>11250</td>\n",
       "      <td>Pave</td>\n",
       "      <td>NaN</td>\n",
       "      <td>IR1</td>\n",
       "      <td>Lvl</td>\n",
       "      <td>AllPub</td>\n",
       "      <td>...</td>\n",
       "      <td>0</td>\n",
       "      <td>NaN</td>\n",
       "      <td>NaN</td>\n",
       "      <td>NaN</td>\n",
       "      <td>0</td>\n",
       "      <td>9</td>\n",
       "      <td>2008</td>\n",
       "      <td>WD</td>\n",
       "      <td>Normal</td>\n",
       "      <td>223500</td>\n",
       "    </tr>\n",
       "    <tr>\n",
       "      <th>3</th>\n",
       "      <td>4</td>\n",
       "      <td>70</td>\n",
       "      <td>RL</td>\n",
       "      <td>60.0</td>\n",
       "      <td>9550</td>\n",
       "      <td>Pave</td>\n",
       "      <td>NaN</td>\n",
       "      <td>IR1</td>\n",
       "      <td>Lvl</td>\n",
       "      <td>AllPub</td>\n",
       "      <td>...</td>\n",
       "      <td>0</td>\n",
       "      <td>NaN</td>\n",
       "      <td>NaN</td>\n",
       "      <td>NaN</td>\n",
       "      <td>0</td>\n",
       "      <td>2</td>\n",
       "      <td>2006</td>\n",
       "      <td>WD</td>\n",
       "      <td>Abnorml</td>\n",
       "      <td>140000</td>\n",
       "    </tr>\n",
       "    <tr>\n",
       "      <th>4</th>\n",
       "      <td>5</td>\n",
       "      <td>60</td>\n",
       "      <td>RL</td>\n",
       "      <td>84.0</td>\n",
       "      <td>14260</td>\n",
       "      <td>Pave</td>\n",
       "      <td>NaN</td>\n",
       "      <td>IR1</td>\n",
       "      <td>Lvl</td>\n",
       "      <td>AllPub</td>\n",
       "      <td>...</td>\n",
       "      <td>0</td>\n",
       "      <td>NaN</td>\n",
       "      <td>NaN</td>\n",
       "      <td>NaN</td>\n",
       "      <td>0</td>\n",
       "      <td>12</td>\n",
       "      <td>2008</td>\n",
       "      <td>WD</td>\n",
       "      <td>Normal</td>\n",
       "      <td>250000</td>\n",
       "    </tr>\n",
       "  </tbody>\n",
       "</table>\n",
       "<p>5 rows × 81 columns</p>\n",
       "</div>"
      ],
      "text/plain": [
       "   Id  MSSubClass MSZoning  LotFrontage  LotArea Street Alley LotShape  \\\n",
       "0   1          60       RL         65.0     8450   Pave   NaN      Reg   \n",
       "1   2          20       RL         80.0     9600   Pave   NaN      Reg   \n",
       "2   3          60       RL         68.0    11250   Pave   NaN      IR1   \n",
       "3   4          70       RL         60.0     9550   Pave   NaN      IR1   \n",
       "4   5          60       RL         84.0    14260   Pave   NaN      IR1   \n",
       "\n",
       "  LandContour Utilities  ... PoolArea PoolQC Fence MiscFeature MiscVal MoSold  \\\n",
       "0         Lvl    AllPub  ...        0    NaN   NaN         NaN       0      2   \n",
       "1         Lvl    AllPub  ...        0    NaN   NaN         NaN       0      5   \n",
       "2         Lvl    AllPub  ...        0    NaN   NaN         NaN       0      9   \n",
       "3         Lvl    AllPub  ...        0    NaN   NaN         NaN       0      2   \n",
       "4         Lvl    AllPub  ...        0    NaN   NaN         NaN       0     12   \n",
       "\n",
       "  YrSold  SaleType  SaleCondition  SalePrice  \n",
       "0   2008        WD         Normal     208500  \n",
       "1   2007        WD         Normal     181500  \n",
       "2   2008        WD         Normal     223500  \n",
       "3   2006        WD        Abnorml     140000  \n",
       "4   2008        WD         Normal     250000  \n",
       "\n",
       "[5 rows x 81 columns]"
      ]
     },
     "execution_count": 5,
     "metadata": {},
     "output_type": "execute_result"
    }
   ],
   "source": [
    "\n",
    "df.head(5)"
   ]
  },
  {
   "cell_type": "code",
   "execution_count": 6,
   "id": "315f495d",
   "metadata": {},
   "outputs": [
    {
     "data": {
      "text/plain": [
       "Index(['Id', 'MSSubClass', 'MSZoning', 'LotFrontage', 'LotArea', 'Street',\n",
       "       'Alley', 'LotShape', 'LandContour', 'Utilities', 'LotConfig',\n",
       "       'LandSlope', 'Neighborhood', 'Condition1', 'Condition2', 'BldgType',\n",
       "       'HouseStyle', 'OverallQual', 'OverallCond', 'YearBuilt', 'YearRemodAdd',\n",
       "       'RoofStyle', 'RoofMatl', 'Exterior1st', 'Exterior2nd', 'MasVnrType',\n",
       "       'MasVnrArea', 'ExterQual', 'ExterCond', 'Foundation', 'BsmtQual',\n",
       "       'BsmtCond', 'BsmtExposure', 'BsmtFinType1', 'BsmtFinSF1',\n",
       "       'BsmtFinType2', 'BsmtFinSF2', 'BsmtUnfSF', 'TotalBsmtSF', 'Heating',\n",
       "       'HeatingQC', 'CentralAir', 'Electrical', '1stFlrSF', '2ndFlrSF',\n",
       "       'LowQualFinSF', 'GrLivArea', 'BsmtFullBath', 'BsmtHalfBath', 'FullBath',\n",
       "       'HalfBath', 'BedroomAbvGr', 'KitchenAbvGr', 'KitchenQual',\n",
       "       'TotRmsAbvGrd', 'Functional', 'Fireplaces', 'FireplaceQu', 'GarageType',\n",
       "       'GarageYrBlt', 'GarageFinish', 'GarageCars', 'GarageArea', 'GarageQual',\n",
       "       'GarageCond', 'PavedDrive', 'WoodDeckSF', 'OpenPorchSF',\n",
       "       'EnclosedPorch', '3SsnPorch', 'ScreenPorch', 'PoolArea', 'PoolQC',\n",
       "       'Fence', 'MiscFeature', 'MiscVal', 'MoSold', 'YrSold', 'SaleType',\n",
       "       'SaleCondition', 'SalePrice'],\n",
       "      dtype='object')"
      ]
     },
     "execution_count": 6,
     "metadata": {},
     "output_type": "execute_result"
    }
   ],
   "source": [
    "\n",
    "df.columns"
   ]
  },
  {
   "cell_type": "code",
   "execution_count": 7,
   "id": "787d5c84",
   "metadata": {},
   "outputs": [
    {
     "data": {
      "text/plain": [
       "['Id',\n",
       " 'MSSubClass',\n",
       " 'LotFrontage',\n",
       " 'LotArea',\n",
       " 'OverallQual',\n",
       " 'OverallCond',\n",
       " 'YearBuilt',\n",
       " 'YearRemodAdd',\n",
       " 'MasVnrArea',\n",
       " 'BsmtFinSF1',\n",
       " 'BsmtFinSF2',\n",
       " 'BsmtUnfSF',\n",
       " 'TotalBsmtSF',\n",
       " '1stFlrSF',\n",
       " '2ndFlrSF',\n",
       " 'LowQualFinSF',\n",
       " 'GrLivArea',\n",
       " 'BsmtFullBath',\n",
       " 'BsmtHalfBath',\n",
       " 'FullBath',\n",
       " 'HalfBath',\n",
       " 'BedroomAbvGr',\n",
       " 'KitchenAbvGr',\n",
       " 'TotRmsAbvGrd',\n",
       " 'Fireplaces',\n",
       " 'GarageYrBlt',\n",
       " 'GarageCars',\n",
       " 'GarageArea',\n",
       " 'WoodDeckSF',\n",
       " 'OpenPorchSF',\n",
       " 'EnclosedPorch',\n",
       " '3SsnPorch',\n",
       " 'ScreenPorch',\n",
       " 'PoolArea',\n",
       " 'MiscVal',\n",
       " 'MoSold',\n",
       " 'YrSold',\n",
       " 'SalePrice']"
      ]
     },
     "execution_count": 7,
     "metadata": {},
     "output_type": "execute_result"
    }
   ],
   "source": [
    "numeric_columns = df._get_numeric_data().columns.values.tolist()\n",
    "numeric_columns"
   ]
  },
  {
   "cell_type": "markdown",
   "id": "0bff9f8b",
   "metadata": {},
   "source": [
    "## Preprocessing"
   ]
  },
  {
   "cell_type": "code",
   "execution_count": 8,
   "id": "f86cd325",
   "metadata": {},
   "outputs": [
    {
     "data": {
      "text/plain": [
       "81"
      ]
     },
     "execution_count": 8,
     "metadata": {},
     "output_type": "execute_result"
    }
   ],
   "source": [
    "column_names = list(df.columns)\n",
    "len(column_names)\n",
    "     "
   ]
  },
  {
   "cell_type": "markdown",
   "id": "1d68ba58",
   "metadata": {},
   "source": [
    "## Checking if any columns are null"
   ]
  },
  {
   "cell_type": "code",
   "execution_count": 9,
   "id": "69c0b711",
   "metadata": {},
   "outputs": [
    {
     "name": "stdout",
     "output_type": "stream",
     "text": [
      "Null columns: Index(['LotFrontage', 'Alley', 'MasVnrType', 'MasVnrArea', 'BsmtQual',\n",
      "       'BsmtCond', 'BsmtExposure', 'BsmtFinType1', 'BsmtFinType2',\n",
      "       'Electrical', 'FireplaceQu', 'GarageType', 'GarageYrBlt',\n",
      "       'GarageFinish', 'GarageQual', 'GarageCond', 'PoolQC', 'Fence',\n",
      "       'MiscFeature'],\n",
      "      dtype='object')\n"
     ]
    }
   ],
   "source": [
    "null_columns = df.columns[df.isnull().any()]\n",
    "print(\"Null columns:\", null_columns)"
   ]
  },
  {
   "cell_type": "code",
   "execution_count": 10,
   "id": "2c2ca6c5",
   "metadata": {},
   "outputs": [
    {
     "data": {
      "text/plain": [
       "19"
      ]
     },
     "execution_count": 10,
     "metadata": {},
     "output_type": "execute_result"
    }
   ],
   "source": [
    "len(null_columns)"
   ]
  },
  {
   "cell_type": "code",
   "execution_count": 11,
   "id": "d8db18d3",
   "metadata": {},
   "outputs": [
    {
     "name": "stdout",
     "output_type": "stream",
     "text": [
      "LotFrontage column has data type : <class 'numpy.float64'>\n",
      "Alley column has data type : <class 'float'>\n",
      "MasVnrType column has data type : <class 'str'>\n",
      "MasVnrArea column has data type : <class 'numpy.float64'>\n",
      "BsmtQual column has data type : <class 'str'>\n",
      "BsmtCond column has data type : <class 'str'>\n",
      "BsmtExposure column has data type : <class 'str'>\n",
      "BsmtFinType1 column has data type : <class 'str'>\n",
      "BsmtFinType2 column has data type : <class 'str'>\n",
      "Electrical column has data type : <class 'str'>\n",
      "FireplaceQu column has data type : <class 'float'>\n",
      "GarageType column has data type : <class 'str'>\n",
      "GarageYrBlt column has data type : <class 'numpy.float64'>\n",
      "GarageFinish column has data type : <class 'str'>\n",
      "GarageQual column has data type : <class 'str'>\n",
      "GarageCond column has data type : <class 'str'>\n",
      "PoolQC column has data type : <class 'float'>\n",
      "Fence column has data type : <class 'float'>\n",
      "MiscFeature column has data type : <class 'float'>\n"
     ]
    }
   ],
   "source": [
    "# print data types of null columns\n",
    "#for col in null_columns:\n",
    "    #print(col, df[col].dtype)\n",
    "\n",
    "for i in range(0,len(null_columns)):\n",
    "  print(f\"{null_columns[i]} column has data type : {type(df[null_columns[i]][0])}\")"
   ]
  },
  {
   "cell_type": "code",
   "execution_count": 12,
   "id": "dfc94dab",
   "metadata": {},
   "outputs": [
    {
     "data": {
      "text/html": [
       "<div>\n",
       "<style scoped>\n",
       "    .dataframe tbody tr th:only-of-type {\n",
       "        vertical-align: middle;\n",
       "    }\n",
       "\n",
       "    .dataframe tbody tr th {\n",
       "        vertical-align: top;\n",
       "    }\n",
       "\n",
       "    .dataframe thead th {\n",
       "        text-align: right;\n",
       "    }\n",
       "</style>\n",
       "<table border=\"1\" class=\"dataframe\">\n",
       "  <thead>\n",
       "    <tr style=\"text-align: right;\">\n",
       "      <th></th>\n",
       "      <th>LotFrontage</th>\n",
       "      <th>MasVnrArea</th>\n",
       "      <th>GarageYrBlt</th>\n",
       "    </tr>\n",
       "  </thead>\n",
       "  <tbody>\n",
       "    <tr>\n",
       "      <th>0</th>\n",
       "      <td>65.0</td>\n",
       "      <td>196.0</td>\n",
       "      <td>2003.0</td>\n",
       "    </tr>\n",
       "    <tr>\n",
       "      <th>1</th>\n",
       "      <td>80.0</td>\n",
       "      <td>0.0</td>\n",
       "      <td>1976.0</td>\n",
       "    </tr>\n",
       "    <tr>\n",
       "      <th>2</th>\n",
       "      <td>68.0</td>\n",
       "      <td>162.0</td>\n",
       "      <td>2001.0</td>\n",
       "    </tr>\n",
       "    <tr>\n",
       "      <th>3</th>\n",
       "      <td>60.0</td>\n",
       "      <td>0.0</td>\n",
       "      <td>1998.0</td>\n",
       "    </tr>\n",
       "    <tr>\n",
       "      <th>4</th>\n",
       "      <td>84.0</td>\n",
       "      <td>350.0</td>\n",
       "      <td>2000.0</td>\n",
       "    </tr>\n",
       "    <tr>\n",
       "      <th>...</th>\n",
       "      <td>...</td>\n",
       "      <td>...</td>\n",
       "      <td>...</td>\n",
       "    </tr>\n",
       "    <tr>\n",
       "      <th>1455</th>\n",
       "      <td>62.0</td>\n",
       "      <td>0.0</td>\n",
       "      <td>1999.0</td>\n",
       "    </tr>\n",
       "    <tr>\n",
       "      <th>1456</th>\n",
       "      <td>85.0</td>\n",
       "      <td>119.0</td>\n",
       "      <td>1978.0</td>\n",
       "    </tr>\n",
       "    <tr>\n",
       "      <th>1457</th>\n",
       "      <td>66.0</td>\n",
       "      <td>0.0</td>\n",
       "      <td>1941.0</td>\n",
       "    </tr>\n",
       "    <tr>\n",
       "      <th>1458</th>\n",
       "      <td>68.0</td>\n",
       "      <td>0.0</td>\n",
       "      <td>1950.0</td>\n",
       "    </tr>\n",
       "    <tr>\n",
       "      <th>1459</th>\n",
       "      <td>75.0</td>\n",
       "      <td>0.0</td>\n",
       "      <td>1965.0</td>\n",
       "    </tr>\n",
       "  </tbody>\n",
       "</table>\n",
       "<p>1460 rows × 3 columns</p>\n",
       "</div>"
      ],
      "text/plain": [
       "      LotFrontage  MasVnrArea  GarageYrBlt\n",
       "0            65.0       196.0       2003.0\n",
       "1            80.0         0.0       1976.0\n",
       "2            68.0       162.0       2001.0\n",
       "3            60.0         0.0       1998.0\n",
       "4            84.0       350.0       2000.0\n",
       "...           ...         ...          ...\n",
       "1455         62.0         0.0       1999.0\n",
       "1456         85.0       119.0       1978.0\n",
       "1457         66.0         0.0       1941.0\n",
       "1458         68.0         0.0       1950.0\n",
       "1459         75.0         0.0       1965.0\n",
       "\n",
       "[1460 rows x 3 columns]"
      ]
     },
     "execution_count": 12,
     "metadata": {},
     "output_type": "execute_result"
    }
   ],
   "source": [
    "numeric_cols = df[null_columns].select_dtypes(include='number')\n",
    "numeric_cols"
   ]
  },
  {
   "cell_type": "markdown",
   "id": "645175ab",
   "metadata": {},
   "source": [
    "## Vizualising The Columns"
   ]
  },
  {
   "cell_type": "code",
   "execution_count": 13,
   "id": "dcd32f5d",
   "metadata": {},
   "outputs": [
    {
     "data": {
      "text/plain": [
       "<AxesSubplot:xlabel='LotFrontage'>"
      ]
     },
     "execution_count": 13,
     "metadata": {},
     "output_type": "execute_result"
    },
    {
     "data": {
      "image/png": "[encoded data removed]",
      "text/plain": [
       "<Figure size 432x288 with 1 Axes>"
      ]
     },
     "metadata": {
      "needs_background": "light"
     },
     "output_type": "display_data"
    }
   ],
   "source": [
    "import seaborn as sns\n",
    "sns.set_style('darkgrid')\n",
    "sns.set_palette('Set2')\n",
    "sns.boxplot(x=numeric_cols[\"LotFrontage\"],notch=True, width=.8)"
   ]
  },
  {
   "cell_type": "code",
   "execution_count": 14,
   "id": "dda613fd",
   "metadata": {},
   "outputs": [
    {
     "data": {
      "text/plain": [
       "<AxesSubplot:xlabel='MasVnrArea'>"
      ]
     },
     "execution_count": 14,
     "metadata": {},
     "output_type": "execute_result"
    },
    {
     "data": {
      "image/png": "[encoded data removed]",
      "text/plain": [
       "<Figure size 432x288 with 1 Axes>"
      ]
     },
     "metadata": {
      "needs_background": "light"
     },
     "output_type": "display_data"
    }
   ],
   "source": [
    "sns.set_palette('Set1')\n",
    "sns.boxplot(x=numeric_cols[\"MasVnrArea\"],notch=True, width=.8)"
   ]
  },
  {
   "cell_type": "code",
   "execution_count": 15,
   "id": "ad579c44",
   "metadata": {},
   "outputs": [
    {
     "data": {
      "text/plain": [
       "<AxesSubplot:xlabel='GarageYrBlt'>"
      ]
     },
     "execution_count": 15,
     "metadata": {},
     "output_type": "execute_result"
    },
    {
     "data": {
      "image/png": "[encoded data removed]",
      "text/plain": [
       "<Figure size 432x288 with 1 Axes>"
      ]
     },
     "metadata": {
      "needs_background": "light"
     },
     "output_type": "display_data"
    }
   ],
   "source": [
    "sns.boxplot(x=numeric_cols[\"GarageYrBlt\"],notch=True, width=.8,palette=\"Blues\")"
   ]
  },
  {
   "cell_type": "code",
   "execution_count": 16,
   "id": "a6dea1d3",
   "metadata": {},
   "outputs": [],
   "source": [
    "mode_value = df['LotFrontage'].mode()[0]\n",
    "df['LotFrontage'].fillna(mode_value, inplace=True)\n",
    "\n",
    "     \n",
    "\n",
    "mode_value = df['MasVnrArea'].mode()[0]\n",
    "df['MasVnrArea'].fillna(mode_value, inplace=True)\n",
    "     \n",
    "\n",
    "mode_value = df['GarageYrBlt'].mode()[0]\n",
    "df['GarageYrBlt'].fillna(mode_value, inplace=True)"
   ]
  },
  {
   "cell_type": "code",
   "execution_count": 17,
   "id": "5aae9835",
   "metadata": {},
   "outputs": [
    {
     "data": {
      "text/plain": [
       "<AxesSubplot:xlabel='LotFrontage'>"
      ]
     },
     "execution_count": 17,
     "metadata": {},
     "output_type": "execute_result"
    },
    {
     "data": {
      "image/png": "[encoded data removed]",
      "text/plain": [
       "<Figure size 432x288 with 1 Axes>"
      ]
     },
     "metadata": {
      "needs_background": "light"
     },
     "output_type": "display_data"
    }
   ],
   "source": [
    "\n",
    "sns.boxplot(x=df['LotFrontage'])"
   ]
  },
  {
   "cell_type": "code",
   "execution_count": 18,
   "id": "897cfa0e",
   "metadata": {},
   "outputs": [
    {
     "data": {
      "text/plain": [
       "<AxesSubplot:xlabel='MasVnrArea'>"
      ]
     },
     "execution_count": 18,
     "metadata": {},
     "output_type": "execute_result"
    },
    {
     "data": {
      "image/png": "[encoded data removed]",
      "text/plain": [
       "<Figure size 432x288 with 1 Axes>"
      ]
     },
     "metadata": {
      "needs_background": "light"
     },
     "output_type": "display_data"
    }
   ],
   "source": [
    "sns.boxplot(x=df['MasVnrArea'])"
   ]
  },
  {
   "cell_type": "code",
   "execution_count": 19,
   "id": "c9fe05f9",
   "metadata": {},
   "outputs": [
    {
     "data": {
      "text/plain": [
       "<AxesSubplot:xlabel='GarageYrBlt'>"
      ]
     },
     "execution_count": 19,
     "metadata": {},
     "output_type": "execute_result"
    },
    {
     "data": {
      "image/png": "[encoded data removed]",
      "text/plain": [
       "<Figure size 432x288 with 1 Axes>"
      ]
     },
     "metadata": {
      "needs_background": "light"
     },
     "output_type": "display_data"
    }
   ],
   "source": [
    "sns.boxplot(x=df['GarageYrBlt'])"
   ]
  },
  {
   "cell_type": "markdown",
   "id": "acb987b0",
   "metadata": {},
   "source": [
    "## Applying on columns"
   ]
  },
  {
   "cell_type": "code",
   "execution_count": 20,
   "id": "9ce1b233",
   "metadata": {},
   "outputs": [
    {
     "name": "stderr",
     "output_type": "stream",
     "text": [
      "C:\\Users\\Msc 1\\AppData\\Local\\Programs\\Python\\Python39\\lib\\site-packages\\pandas\\core\\arraylike.py:397: RuntimeWarning: divide by zero encountered in log\n",
      "  result = getattr(ufunc, method)(*inputs, **kwargs)\n"
     ]
    }
   ],
   "source": [
    "import numpy as np\n",
    "df['MasVnrArea'] = np.log(df['MasVnrArea'])"
   ]
  },
  {
   "cell_type": "code",
   "execution_count": 21,
   "id": "60525fc3",
   "metadata": {},
   "outputs": [
    {
     "data": {
      "text/plain": [
       "869"
      ]
     },
     "execution_count": 21,
     "metadata": {},
     "output_type": "execute_result"
    }
   ],
   "source": [
    "count = 0\n",
    "for i in range(0,len(df['MasVnrArea'])):\n",
    "  if(df['MasVnrArea'][i]== float('-inf')):\n",
    "    count+=1\n",
    "count    "
   ]
  },
  {
   "cell_type": "code",
   "execution_count": 22,
   "id": "b9bd02c3",
   "metadata": {},
   "outputs": [
    {
     "data": {
      "text/plain": [
       "-inf"
      ]
     },
     "execution_count": 22,
     "metadata": {},
     "output_type": "execute_result"
    }
   ],
   "source": [
    "\n",
    "min_val = df['MasVnrArea'].min()\n",
    "min_val"
   ]
  },
  {
   "cell_type": "code",
   "execution_count": 23,
   "id": "4f2c5595",
   "metadata": {},
   "outputs": [],
   "source": [
    "df['MasVnrArea'] = df['MasVnrArea'].replace(-np.inf, 0)"
   ]
  },
  {
   "cell_type": "code",
   "execution_count": 24,
   "id": "04b65f41",
   "metadata": {},
   "outputs": [
    {
     "data": {
      "text/plain": [
       "0       5.278115\n",
       "1       0.000000\n",
       "2       5.087596\n",
       "3       0.000000\n",
       "4       5.857933\n",
       "          ...   \n",
       "1455    0.000000\n",
       "1456    4.779123\n",
       "1457    0.000000\n",
       "1458    0.000000\n",
       "1459    0.000000\n",
       "Name: MasVnrArea, Length: 1460, dtype: float64"
      ]
     },
     "execution_count": 24,
     "metadata": {},
     "output_type": "execute_result"
    }
   ],
   "source": [
    "\n",
    "df['MasVnrArea']"
   ]
  },
  {
   "cell_type": "code",
   "execution_count": 25,
   "id": "1079c3a0",
   "metadata": {},
   "outputs": [
    {
     "data": {
      "text/plain": [
       "<AxesSubplot:xlabel='MasVnrArea'>"
      ]
     },
     "execution_count": 25,
     "metadata": {},
     "output_type": "execute_result"
    },
    {
     "data": {
      "image/png": "[encoded data removed]",
      "text/plain": [
       "<Figure size 432x288 with 1 Axes>"
      ]
     },
     "metadata": {
      "needs_background": "light"
     },
     "output_type": "display_data"
    }
   ],
   "source": [
    "sns.boxplot(x=df['MasVnrArea'])"
   ]
  },
  {
   "cell_type": "code",
   "execution_count": 26,
   "id": "05a0e465",
   "metadata": {},
   "outputs": [
    {
     "name": "stdout",
     "output_type": "stream",
     "text": [
      "Number of outliers in column 'MasVnrArea': 0\n"
     ]
    }
   ],
   "source": [
    "q1 = df['MasVnrArea'].quantile(0.25)\n",
    "q3 = df['MasVnrArea'].quantile(0.75)\n",
    "iqr = q3 - q1\n",
    "\n",
    "lower_bound = q1 - 1.5 * iqr\n",
    "upper_bound = q3 + 1.5 * iqr\n",
    "num_outliers = ((df['MasVnrArea'] < lower_bound) | (df['MasVnrArea'] > upper_bound)).sum()\n",
    "print(\"Number of outliers in column 'MasVnrArea':\", num_outliers)"
   ]
  },
  {
   "cell_type": "markdown",
   "id": "736b2975",
   "metadata": {},
   "source": [
    "## Similarly we can do for rest columns"
   ]
  },
  {
   "cell_type": "code",
   "execution_count": 27,
   "id": "34e5d844",
   "metadata": {},
   "outputs": [
    {
     "data": {
      "text/plain": [
       "0       4.174387\n",
       "1       4.382027\n",
       "2       4.219508\n",
       "3       4.094345\n",
       "4       4.430817\n",
       "          ...   \n",
       "1455    4.127134\n",
       "1456    4.442651\n",
       "1457    4.189655\n",
       "1458    4.219508\n",
       "1459    4.317488\n",
       "Name: LotFrontage, Length: 1460, dtype: float64"
      ]
     },
     "execution_count": 27,
     "metadata": {},
     "output_type": "execute_result"
    }
   ],
   "source": [
    "df['LotFrontage'] = np.log(df['LotFrontage'])\n",
    "df['LotFrontage']"
   ]
  },
  {
   "cell_type": "code",
   "execution_count": 28,
   "id": "aac9d147",
   "metadata": {},
   "outputs": [
    {
     "data": {
      "text/plain": [
       "0"
      ]
     },
     "execution_count": 28,
     "metadata": {},
     "output_type": "execute_result"
    }
   ],
   "source": [
    "count = 0\n",
    "for i in range(0,len(df['LotFrontage'])):\n",
    "  if(df['LotFrontage'][i]== float('-inf')):\n",
    "    count+=1\n",
    "count "
   ]
  },
  {
   "cell_type": "code",
   "execution_count": 29,
   "id": "7815c05c",
   "metadata": {},
   "outputs": [
    {
     "name": "stdout",
     "output_type": "stream",
     "text": [
      "Number of outliers in column 'LotFrontage': 123\n"
     ]
    }
   ],
   "source": [
    "q1 = df['LotFrontage'].quantile(0.25)\n",
    "q3 = df['LotFrontage'].quantile(0.75)\n",
    "iqr = q3 - q1\n",
    "\n",
    "# calculate the lower and upper bounds\n",
    "lower_bound = q1 - 1.5 * iqr\n",
    "upper_bound = q3 + 1.5 * iqr\n",
    "\n",
    "# count the number of outliers\n",
    "num_outliers = ((df['LotFrontage'] < lower_bound) | (df['LotFrontage'] > upper_bound)).sum()\n",
    "\n",
    "# print the number of outliers\n",
    "print(\"Number of outliers in column 'LotFrontage':\", num_outliers)"
   ]
  },
  {
   "cell_type": "code",
   "execution_count": 30,
   "id": "2a4f5a81",
   "metadata": {},
   "outputs": [
    {
     "data": {
      "text/plain": [
       "0       4.174387\n",
       "1       4.382027\n",
       "2       4.219508\n",
       "3       4.094345\n",
       "4       4.430817\n",
       "          ...   \n",
       "1455    4.127134\n",
       "1456    4.442651\n",
       "1457    4.189655\n",
       "1458    4.219508\n",
       "1459    4.317488\n",
       "Name: LotFrontage, Length: 1460, dtype: float64"
      ]
     },
     "execution_count": 30,
     "metadata": {},
     "output_type": "execute_result"
    }
   ],
   "source": [
    "df['LotFrontage']"
   ]
  },
  {
   "cell_type": "code",
   "execution_count": 31,
   "id": "a6ba2828",
   "metadata": {},
   "outputs": [
    {
     "data": {
      "text/plain": [
       "0       7.602401\n",
       "1       7.588830\n",
       "2       7.601402\n",
       "3       7.599902\n",
       "4       7.600902\n",
       "          ...   \n",
       "1455    7.600402\n",
       "1456    7.589842\n",
       "1457    7.570959\n",
       "1458    7.575585\n",
       "1459    7.583248\n",
       "Name: GarageYrBlt, Length: 1460, dtype: float64"
      ]
     },
     "execution_count": 31,
     "metadata": {},
     "output_type": "execute_result"
    }
   ],
   "source": [
    "df['GarageYrBlt'] = np.log(df['GarageYrBlt'])\n",
    "df['GarageYrBlt']"
   ]
  },
  {
   "cell_type": "code",
   "execution_count": 32,
   "id": "d63561b2",
   "metadata": {},
   "outputs": [
    {
     "data": {
      "text/plain": [
       "1"
      ]
     },
     "execution_count": 32,
     "metadata": {},
     "output_type": "execute_result"
    }
   ],
   "source": [
    "q1 = df['GarageYrBlt'].quantile(0.25)\n",
    "q3 = df['GarageYrBlt'].quantile(0.75)\n",
    "iqr = q3 - q1\n",
    "\n",
    "# calculate the lower and upper bounds\n",
    "lower_bound = q1 - 1.5 * iqr\n",
    "upper_bound = q3 + 1.5 * iqr\n",
    "\n",
    "# count the number of outliers\n",
    "num_outliers = ((df['GarageYrBlt'] < lower_bound) | (df['GarageYrBlt'] > upper_bound)).sum()\n",
    "\n",
    "# print the number of outliers\n",
    "num_outliers"
   ]
  },
  {
   "cell_type": "code",
   "execution_count": 33,
   "id": "20d363f3",
   "metadata": {},
   "outputs": [
    {
     "data": {
      "text/plain": [
       "16"
      ]
     },
     "execution_count": 33,
     "metadata": {},
     "output_type": "execute_result"
    }
   ],
   "source": [
    "null_cat_cols = [i for i in null_columns if i not in numeric_cols]\n",
    "len(null_cat_cols)"
   ]
  },
  {
   "cell_type": "code",
   "execution_count": 34,
   "id": "43ae832a",
   "metadata": {},
   "outputs": [
    {
     "data": {
      "text/plain": [
       "['Alley',\n",
       " 'MasVnrType',\n",
       " 'BsmtQual',\n",
       " 'BsmtCond',\n",
       " 'BsmtExposure',\n",
       " 'BsmtFinType1',\n",
       " 'BsmtFinType2',\n",
       " 'Electrical',\n",
       " 'FireplaceQu',\n",
       " 'GarageType',\n",
       " 'GarageFinish',\n",
       " 'GarageQual',\n",
       " 'GarageCond',\n",
       " 'PoolQC',\n",
       " 'Fence',\n",
       " 'MiscFeature']"
      ]
     },
     "execution_count": 34,
     "metadata": {},
     "output_type": "execute_result"
    }
   ],
   "source": [
    "\n",
    "null_cat_cols"
   ]
  },
  {
   "cell_type": "code",
   "execution_count": 35,
   "id": "a13104be",
   "metadata": {},
   "outputs": [
    {
     "name": "stdout",
     "output_type": "stream",
     "text": [
      "For column Alley the number of missing values is 1369!\n",
      "For column MasVnrType the number of missing values is 8!\n",
      "For column BsmtQual the number of missing values is 37!\n",
      "For column BsmtCond the number of missing values is 37!\n",
      "For column BsmtExposure the number of missing values is 38!\n",
      "For column BsmtFinType1 the number of missing values is 37!\n",
      "For column BsmtFinType2 the number of missing values is 38!\n",
      "For column Electrical the number of missing values is 1!\n",
      "For column FireplaceQu the number of missing values is 690!\n",
      "For column GarageType the number of missing values is 81!\n",
      "For column GarageFinish the number of missing values is 81!\n",
      "For column GarageQual the number of missing values is 81!\n",
      "For column GarageCond the number of missing values is 81!\n",
      "For column PoolQC the number of missing values is 1453!\n",
      "For column Fence the number of missing values is 1179!\n",
      "For column MiscFeature the number of missing values is 1406!\n"
     ]
    }
   ],
   "source": [
    "# print the number of missing values in each column\n",
    "\n",
    "for i in range(0,len(null_cat_cols)):\n",
    "  print(f\"For column {null_cat_cols[i]} the number of missing values is {df[null_cat_cols[i]].isnull().sum()}!\")"
   ]
  },
  {
   "cell_type": "code",
   "execution_count": 36,
   "id": "8d491160",
   "metadata": {},
   "outputs": [
    {
     "data": {
      "text/plain": [
       "['Alley', 'PoolQC', 'Fence', 'MiscFeature']"
      ]
     },
     "execution_count": 36,
     "metadata": {},
     "output_type": "execute_result"
    }
   ],
   "source": [
    "# dropping columns with more than 50% ofmissing values\n",
    "df = df.drop(['Alley', 'PoolQC','Fence','MiscFeature'], axis=1)     \n",
    "drop_cols = ['Alley', 'PoolQC','Fence','MiscFeature']\n",
    "drop_cols     "
   ]
  },
  {
   "cell_type": "code",
   "execution_count": 37,
   "id": "3c7a0664",
   "metadata": {},
   "outputs": [
    {
     "data": {
      "text/plain": [
       "12"
      ]
     },
     "execution_count": 37,
     "metadata": {},
     "output_type": "execute_result"
    }
   ],
   "source": [
    "null_cat_cols = [i for i in null_cat_cols if i not in drop_cols]\n",
    "len(null_cat_cols)"
   ]
  },
  {
   "cell_type": "code",
   "execution_count": 38,
   "id": "b756ddd0",
   "metadata": {},
   "outputs": [],
   "source": [
    "for i in range(0,len(null_cat_cols)):\n",
    "  df[null_cat_cols[i]].fillna(df[null_cat_cols[i]].mode()[0], inplace=True)"
   ]
  },
  {
   "cell_type": "code",
   "execution_count": 39,
   "id": "7bfb2d88",
   "metadata": {},
   "outputs": [
    {
     "data": {
      "text/html": [
       "<div>\n",
       "<style scoped>\n",
       "    .dataframe tbody tr th:only-of-type {\n",
       "        vertical-align: middle;\n",
       "    }\n",
       "\n",
       "    .dataframe tbody tr th {\n",
       "        vertical-align: top;\n",
       "    }\n",
       "\n",
       "    .dataframe thead th {\n",
       "        text-align: right;\n",
       "    }\n",
       "</style>\n",
       "<table border=\"1\" class=\"dataframe\">\n",
       "  <thead>\n",
       "    <tr style=\"text-align: right;\">\n",
       "      <th></th>\n",
       "      <th>Id</th>\n",
       "      <th>MSSubClass</th>\n",
       "      <th>MSZoning</th>\n",
       "      <th>LotFrontage</th>\n",
       "      <th>LotArea</th>\n",
       "      <th>Street</th>\n",
       "      <th>LotShape</th>\n",
       "      <th>LandContour</th>\n",
       "      <th>Utilities</th>\n",
       "      <th>LotConfig</th>\n",
       "      <th>...</th>\n",
       "      <th>EnclosedPorch</th>\n",
       "      <th>3SsnPorch</th>\n",
       "      <th>ScreenPorch</th>\n",
       "      <th>PoolArea</th>\n",
       "      <th>MiscVal</th>\n",
       "      <th>MoSold</th>\n",
       "      <th>YrSold</th>\n",
       "      <th>SaleType</th>\n",
       "      <th>SaleCondition</th>\n",
       "      <th>SalePrice</th>\n",
       "    </tr>\n",
       "  </thead>\n",
       "  <tbody>\n",
       "    <tr>\n",
       "      <th>0</th>\n",
       "      <td>1</td>\n",
       "      <td>60</td>\n",
       "      <td>RL</td>\n",
       "      <td>4.174387</td>\n",
       "      <td>8450</td>\n",
       "      <td>Pave</td>\n",
       "      <td>Reg</td>\n",
       "      <td>Lvl</td>\n",
       "      <td>AllPub</td>\n",
       "      <td>Inside</td>\n",
       "      <td>...</td>\n",
       "      <td>0</td>\n",
       "      <td>0</td>\n",
       "      <td>0</td>\n",
       "      <td>0</td>\n",
       "      <td>0</td>\n",
       "      <td>2</td>\n",
       "      <td>2008</td>\n",
       "      <td>WD</td>\n",
       "      <td>Normal</td>\n",
       "      <td>208500</td>\n",
       "    </tr>\n",
       "    <tr>\n",
       "      <th>1</th>\n",
       "      <td>2</td>\n",
       "      <td>20</td>\n",
       "      <td>RL</td>\n",
       "      <td>4.382027</td>\n",
       "      <td>9600</td>\n",
       "      <td>Pave</td>\n",
       "      <td>Reg</td>\n",
       "      <td>Lvl</td>\n",
       "      <td>AllPub</td>\n",
       "      <td>FR2</td>\n",
       "      <td>...</td>\n",
       "      <td>0</td>\n",
       "      <td>0</td>\n",
       "      <td>0</td>\n",
       "      <td>0</td>\n",
       "      <td>0</td>\n",
       "      <td>5</td>\n",
       "      <td>2007</td>\n",
       "      <td>WD</td>\n",
       "      <td>Normal</td>\n",
       "      <td>181500</td>\n",
       "    </tr>\n",
       "    <tr>\n",
       "      <th>2</th>\n",
       "      <td>3</td>\n",
       "      <td>60</td>\n",
       "      <td>RL</td>\n",
       "      <td>4.219508</td>\n",
       "      <td>11250</td>\n",
       "      <td>Pave</td>\n",
       "      <td>IR1</td>\n",
       "      <td>Lvl</td>\n",
       "      <td>AllPub</td>\n",
       "      <td>Inside</td>\n",
       "      <td>...</td>\n",
       "      <td>0</td>\n",
       "      <td>0</td>\n",
       "      <td>0</td>\n",
       "      <td>0</td>\n",
       "      <td>0</td>\n",
       "      <td>9</td>\n",
       "      <td>2008</td>\n",
       "      <td>WD</td>\n",
       "      <td>Normal</td>\n",
       "      <td>223500</td>\n",
       "    </tr>\n",
       "    <tr>\n",
       "      <th>3</th>\n",
       "      <td>4</td>\n",
       "      <td>70</td>\n",
       "      <td>RL</td>\n",
       "      <td>4.094345</td>\n",
       "      <td>9550</td>\n",
       "      <td>Pave</td>\n",
       "      <td>IR1</td>\n",
       "      <td>Lvl</td>\n",
       "      <td>AllPub</td>\n",
       "      <td>Corner</td>\n",
       "      <td>...</td>\n",
       "      <td>272</td>\n",
       "      <td>0</td>\n",
       "      <td>0</td>\n",
       "      <td>0</td>\n",
       "      <td>0</td>\n",
       "      <td>2</td>\n",
       "      <td>2006</td>\n",
       "      <td>WD</td>\n",
       "      <td>Abnorml</td>\n",
       "      <td>140000</td>\n",
       "    </tr>\n",
       "    <tr>\n",
       "      <th>4</th>\n",
       "      <td>5</td>\n",
       "      <td>60</td>\n",
       "      <td>RL</td>\n",
       "      <td>4.430817</td>\n",
       "      <td>14260</td>\n",
       "      <td>Pave</td>\n",
       "      <td>IR1</td>\n",
       "      <td>Lvl</td>\n",
       "      <td>AllPub</td>\n",
       "      <td>FR2</td>\n",
       "      <td>...</td>\n",
       "      <td>0</td>\n",
       "      <td>0</td>\n",
       "      <td>0</td>\n",
       "      <td>0</td>\n",
       "      <td>0</td>\n",
       "      <td>12</td>\n",
       "      <td>2008</td>\n",
       "      <td>WD</td>\n",
       "      <td>Normal</td>\n",
       "      <td>250000</td>\n",
       "    </tr>\n",
       "    <tr>\n",
       "      <th>...</th>\n",
       "      <td>...</td>\n",
       "      <td>...</td>\n",
       "      <td>...</td>\n",
       "      <td>...</td>\n",
       "      <td>...</td>\n",
       "      <td>...</td>\n",
       "      <td>...</td>\n",
       "      <td>...</td>\n",
       "      <td>...</td>\n",
       "      <td>...</td>\n",
       "      <td>...</td>\n",
       "      <td>...</td>\n",
       "      <td>...</td>\n",
       "      <td>...</td>\n",
       "      <td>...</td>\n",
       "      <td>...</td>\n",
       "      <td>...</td>\n",
       "      <td>...</td>\n",
       "      <td>...</td>\n",
       "      <td>...</td>\n",
       "      <td>...</td>\n",
       "    </tr>\n",
       "    <tr>\n",
       "      <th>1455</th>\n",
       "      <td>1456</td>\n",
       "      <td>60</td>\n",
       "      <td>RL</td>\n",
       "      <td>4.127134</td>\n",
       "      <td>7917</td>\n",
       "      <td>Pave</td>\n",
       "      <td>Reg</td>\n",
       "      <td>Lvl</td>\n",
       "      <td>AllPub</td>\n",
       "      <td>Inside</td>\n",
       "      <td>...</td>\n",
       "      <td>0</td>\n",
       "      <td>0</td>\n",
       "      <td>0</td>\n",
       "      <td>0</td>\n",
       "      <td>0</td>\n",
       "      <td>8</td>\n",
       "      <td>2007</td>\n",
       "      <td>WD</td>\n",
       "      <td>Normal</td>\n",
       "      <td>175000</td>\n",
       "    </tr>\n",
       "    <tr>\n",
       "      <th>1456</th>\n",
       "      <td>1457</td>\n",
       "      <td>20</td>\n",
       "      <td>RL</td>\n",
       "      <td>4.442651</td>\n",
       "      <td>13175</td>\n",
       "      <td>Pave</td>\n",
       "      <td>Reg</td>\n",
       "      <td>Lvl</td>\n",
       "      <td>AllPub</td>\n",
       "      <td>Inside</td>\n",
       "      <td>...</td>\n",
       "      <td>0</td>\n",
       "      <td>0</td>\n",
       "      <td>0</td>\n",
       "      <td>0</td>\n",
       "      <td>0</td>\n",
       "      <td>2</td>\n",
       "      <td>2010</td>\n",
       "      <td>WD</td>\n",
       "      <td>Normal</td>\n",
       "      <td>210000</td>\n",
       "    </tr>\n",
       "    <tr>\n",
       "      <th>1457</th>\n",
       "      <td>1458</td>\n",
       "      <td>70</td>\n",
       "      <td>RL</td>\n",
       "      <td>4.189655</td>\n",
       "      <td>9042</td>\n",
       "      <td>Pave</td>\n",
       "      <td>Reg</td>\n",
       "      <td>Lvl</td>\n",
       "      <td>AllPub</td>\n",
       "      <td>Inside</td>\n",
       "      <td>...</td>\n",
       "      <td>0</td>\n",
       "      <td>0</td>\n",
       "      <td>0</td>\n",
       "      <td>0</td>\n",
       "      <td>2500</td>\n",
       "      <td>5</td>\n",
       "      <td>2010</td>\n",
       "      <td>WD</td>\n",
       "      <td>Normal</td>\n",
       "      <td>266500</td>\n",
       "    </tr>\n",
       "    <tr>\n",
       "      <th>1458</th>\n",
       "      <td>1459</td>\n",
       "      <td>20</td>\n",
       "      <td>RL</td>\n",
       "      <td>4.219508</td>\n",
       "      <td>9717</td>\n",
       "      <td>Pave</td>\n",
       "      <td>Reg</td>\n",
       "      <td>Lvl</td>\n",
       "      <td>AllPub</td>\n",
       "      <td>Inside</td>\n",
       "      <td>...</td>\n",
       "      <td>112</td>\n",
       "      <td>0</td>\n",
       "      <td>0</td>\n",
       "      <td>0</td>\n",
       "      <td>0</td>\n",
       "      <td>4</td>\n",
       "      <td>2010</td>\n",
       "      <td>WD</td>\n",
       "      <td>Normal</td>\n",
       "      <td>142125</td>\n",
       "    </tr>\n",
       "    <tr>\n",
       "      <th>1459</th>\n",
       "      <td>1460</td>\n",
       "      <td>20</td>\n",
       "      <td>RL</td>\n",
       "      <td>4.317488</td>\n",
       "      <td>9937</td>\n",
       "      <td>Pave</td>\n",
       "      <td>Reg</td>\n",
       "      <td>Lvl</td>\n",
       "      <td>AllPub</td>\n",
       "      <td>Inside</td>\n",
       "      <td>...</td>\n",
       "      <td>0</td>\n",
       "      <td>0</td>\n",
       "      <td>0</td>\n",
       "      <td>0</td>\n",
       "      <td>0</td>\n",
       "      <td>6</td>\n",
       "      <td>2008</td>\n",
       "      <td>WD</td>\n",
       "      <td>Normal</td>\n",
       "      <td>147500</td>\n",
       "    </tr>\n",
       "  </tbody>\n",
       "</table>\n",
       "<p>1460 rows × 77 columns</p>\n",
       "</div>"
      ],
      "text/plain": [
       "        Id  MSSubClass MSZoning  LotFrontage  LotArea Street LotShape  \\\n",
       "0        1          60       RL     4.174387     8450   Pave      Reg   \n",
       "1        2          20       RL     4.382027     9600   Pave      Reg   \n",
       "2        3          60       RL     4.219508    11250   Pave      IR1   \n",
       "3        4          70       RL     4.094345     9550   Pave      IR1   \n",
       "4        5          60       RL     4.430817    14260   Pave      IR1   \n",
       "...    ...         ...      ...          ...      ...    ...      ...   \n",
       "1455  1456          60       RL     4.127134     7917   Pave      Reg   \n",
       "1456  1457          20       RL     4.442651    13175   Pave      Reg   \n",
       "1457  1458          70       RL     4.189655     9042   Pave      Reg   \n",
       "1458  1459          20       RL     4.219508     9717   Pave      Reg   \n",
       "1459  1460          20       RL     4.317488     9937   Pave      Reg   \n",
       "\n",
       "     LandContour Utilities LotConfig  ... EnclosedPorch 3SsnPorch ScreenPorch  \\\n",
       "0            Lvl    AllPub    Inside  ...             0         0           0   \n",
       "1            Lvl    AllPub       FR2  ...             0         0           0   \n",
       "2            Lvl    AllPub    Inside  ...             0         0           0   \n",
       "3            Lvl    AllPub    Corner  ...           272         0           0   \n",
       "4            Lvl    AllPub       FR2  ...             0         0           0   \n",
       "...          ...       ...       ...  ...           ...       ...         ...   \n",
       "1455         Lvl    AllPub    Inside  ...             0         0           0   \n",
       "1456         Lvl    AllPub    Inside  ...             0         0           0   \n",
       "1457         Lvl    AllPub    Inside  ...             0         0           0   \n",
       "1458         Lvl    AllPub    Inside  ...           112         0           0   \n",
       "1459         Lvl    AllPub    Inside  ...             0         0           0   \n",
       "\n",
       "     PoolArea MiscVal MoSold  YrSold  SaleType  SaleCondition  SalePrice  \n",
       "0           0       0      2    2008        WD         Normal     208500  \n",
       "1           0       0      5    2007        WD         Normal     181500  \n",
       "2           0       0      9    2008        WD         Normal     223500  \n",
       "3           0       0      2    2006        WD        Abnorml     140000  \n",
       "4           0       0     12    2008        WD         Normal     250000  \n",
       "...       ...     ...    ...     ...       ...            ...        ...  \n",
       "1455        0       0      8    2007        WD         Normal     175000  \n",
       "1456        0       0      2    2010        WD         Normal     210000  \n",
       "1457        0    2500      5    2010        WD         Normal     266500  \n",
       "1458        0       0      4    2010        WD         Normal     142125  \n",
       "1459        0       0      6    2008        WD         Normal     147500  \n",
       "\n",
       "[1460 rows x 77 columns]"
      ]
     },
     "execution_count": 39,
     "metadata": {},
     "output_type": "execute_result"
    }
   ],
   "source": [
    "\n",
    "df\n",
    "     "
   ]
  },
  {
   "cell_type": "code",
   "execution_count": 40,
   "id": "03034baa",
   "metadata": {},
   "outputs": [
    {
     "data": {
      "text/plain": [
       "Id               False\n",
       "MSSubClass       False\n",
       "MSZoning         False\n",
       "LotFrontage      False\n",
       "LotArea          False\n",
       "                 ...  \n",
       "MoSold           False\n",
       "YrSold           False\n",
       "SaleType         False\n",
       "SaleCondition    False\n",
       "SalePrice        False\n",
       "Length: 77, dtype: bool"
      ]
     },
     "execution_count": 40,
     "metadata": {},
     "output_type": "execute_result"
    }
   ],
   "source": [
    "\n",
    "df.isna().any()"
   ]
  },
  {
   "cell_type": "markdown",
   "id": "34a7d5cb",
   "metadata": {},
   "source": [
    "## Now our data frame dosent have any missing Values"
   ]
  },
  {
   "cell_type": "code",
   "execution_count": 41,
   "id": "76cc7853",
   "metadata": {},
   "outputs": [],
   "source": [
    "cat_cols = df.select_dtypes(include=['object']).columns.tolist()\n",
    "copy_df = df\n",
    "cols_to_label = []\n",
    "cols_to_onehot = []\n",
    "\n",
    "for i in range(0, len(cat_cols)):\n",
    "  if(df[cat_cols[i]].nunique()<=6):\n",
    "    cols_to_label.append(cat_cols[i])\n",
    "  else:\n",
    "    cols_to_onehot.append(cat_cols[i])  "
   ]
  },
  {
   "cell_type": "code",
   "execution_count": 42,
   "id": "c148f187",
   "metadata": {},
   "outputs": [
    {
     "name": "stdout",
     "output_type": "stream",
     "text": [
      "['MSZoning', 'Street', 'LotShape', 'LandContour', 'Utilities', 'LotConfig', 'LandSlope', 'BldgType', 'RoofStyle', 'MasVnrType', 'ExterQual', 'ExterCond', 'Foundation', 'BsmtQual', 'BsmtCond', 'BsmtExposure', 'BsmtFinType1', 'BsmtFinType2', 'Heating', 'HeatingQC', 'CentralAir', 'Electrical', 'KitchenQual', 'FireplaceQu', 'GarageType', 'GarageFinish', 'GarageQual', 'GarageCond', 'PavedDrive', 'SaleCondition']\n"
     ]
    }
   ],
   "source": [
    "print(cols_to_label)"
   ]
  },
  {
   "cell_type": "code",
   "execution_count": 43,
   "id": "c6fb2319",
   "metadata": {},
   "outputs": [
    {
     "name": "stdout",
     "output_type": "stream",
     "text": [
      "['Neighborhood', 'Condition1', 'Condition2', 'HouseStyle', 'RoofMatl', 'Exterior1st', 'Exterior2nd', 'Functional', 'SaleType']\n"
     ]
    }
   ],
   "source": [
    "print(cols_to_onehot)"
   ]
  },
  {
   "cell_type": "markdown",
   "id": "96f8f4c2",
   "metadata": {},
   "source": [
    "## Label Encoding"
   ]
  },
  {
   "cell_type": "code",
   "execution_count": 44,
   "id": "c3116e6c",
   "metadata": {},
   "outputs": [
    {
     "name": "stdout",
     "output_type": "stream",
     "text": [
      "Label Encoding column MSZoning\n",
      "Label Encoding column Street\n",
      "Label Encoding column LotShape\n",
      "Label Encoding column LandContour\n",
      "Label Encoding column Utilities\n",
      "Label Encoding column LotConfig\n",
      "Label Encoding column LandSlope\n",
      "Label Encoding column BldgType\n",
      "Label Encoding column RoofStyle\n",
      "Label Encoding column MasVnrType\n",
      "Label Encoding column ExterQual\n",
      "Label Encoding column ExterCond\n",
      "Label Encoding column Foundation\n",
      "Label Encoding column BsmtQual\n",
      "Label Encoding column BsmtCond\n",
      "Label Encoding column BsmtExposure\n",
      "Label Encoding column BsmtFinType1\n",
      "Label Encoding column BsmtFinType2\n",
      "Label Encoding column Heating\n",
      "Label Encoding column HeatingQC\n",
      "Label Encoding column CentralAir\n",
      "Label Encoding column Electrical\n",
      "Label Encoding column KitchenQual\n",
      "Label Encoding column FireplaceQu\n",
      "Label Encoding column GarageType\n",
      "Label Encoding column GarageFinish\n",
      "Label Encoding column GarageQual\n",
      "Label Encoding column GarageCond\n",
      "Label Encoding column PavedDrive\n",
      "Label Encoding column SaleCondition\n"
     ]
    }
   ],
   "source": [
    "\n",
    "from sklearn.preprocessing import LabelEncoder \n",
    "\n",
    "\n",
    "le = LabelEncoder()\n",
    "\n",
    "for i in range(0, len(cols_to_label)):\n",
    "  name = cols_to_label[i]\n",
    "  print(f\"Label Encoding column {name}\")\n",
    "  df[name] = le.fit_transform(df[name])"
   ]
  },
  {
   "cell_type": "markdown",
   "id": "dec93cdf",
   "metadata": {},
   "source": [
    "# One Hot Encoding"
   ]
  },
  {
   "cell_type": "code",
   "execution_count": 45,
   "id": "2a6ee9ec",
   "metadata": {},
   "outputs": [
    {
     "data": {
      "text/plain": [
       "['Neighborhood',\n",
       " 'Condition1',\n",
       " 'Condition2',\n",
       " 'HouseStyle',\n",
       " 'RoofMatl',\n",
       " 'Exterior1st',\n",
       " 'Exterior2nd',\n",
       " 'Functional',\n",
       " 'SaleType']"
      ]
     },
     "execution_count": 45,
     "metadata": {},
     "output_type": "execute_result"
    }
   ],
   "source": [
    "\n",
    "cols_to_onehot = list(cols_to_onehot)\n",
    "cols_to_onehot"
   ]
  },
  {
   "cell_type": "code",
   "execution_count": 46,
   "id": "48d9a7ac",
   "metadata": {},
   "outputs": [
    {
     "name": "stdout",
     "output_type": "stream",
     "text": [
      "        Id  MSSubClass  MSZoning  LotFrontage  LotArea  Street  LotShape  \\\n",
      "0        1          60         3     4.174387     8450       1         3   \n",
      "1        2          20         3     4.382027     9600       1         3   \n",
      "2        3          60         3     4.219508    11250       1         0   \n",
      "3        4          70         3     4.094345     9550       1         0   \n",
      "4        5          60         3     4.430817    14260       1         0   \n",
      "...    ...         ...       ...          ...      ...     ...       ...   \n",
      "1455  1456          60         3     4.127134     7917       1         3   \n",
      "1456  1457          20         3     4.442651    13175       1         3   \n",
      "1457  1458          70         3     4.189655     9042       1         3   \n",
      "1458  1459          20         3     4.219508     9717       1         3   \n",
      "1459  1460          20         3     4.317488     9937       1         3   \n",
      "\n",
      "      LandContour  Utilities  LotConfig  ...  Functional_Typ  SaleType_COD  \\\n",
      "0               3          0          4  ...               1             0   \n",
      "1               3          0          2  ...               1             0   \n",
      "2               3          0          4  ...               1             0   \n",
      "3               3          0          0  ...               1             0   \n",
      "4               3          0          2  ...               1             0   \n",
      "...           ...        ...        ...  ...             ...           ...   \n",
      "1455            3          0          4  ...               1             0   \n",
      "1456            3          0          4  ...               0             0   \n",
      "1457            3          0          4  ...               1             0   \n",
      "1458            3          0          4  ...               1             0   \n",
      "1459            3          0          4  ...               1             0   \n",
      "\n",
      "      SaleType_CWD  SaleType_Con  SaleType_ConLD  SaleType_ConLI  \\\n",
      "0                0             0               0               0   \n",
      "1                0             0               0               0   \n",
      "2                0             0               0               0   \n",
      "3                0             0               0               0   \n",
      "4                0             0               0               0   \n",
      "...            ...           ...             ...             ...   \n",
      "1455             0             0               0               0   \n",
      "1456             0             0               0               0   \n",
      "1457             0             0               0               0   \n",
      "1458             0             0               0               0   \n",
      "1459             0             0               0               0   \n",
      "\n",
      "      SaleType_ConLw  SaleType_New  SaleType_Oth  SaleType_WD  \n",
      "0                  0             0             0            1  \n",
      "1                  0             0             0            1  \n",
      "2                  0             0             0            1  \n",
      "3                  0             0             0            1  \n",
      "4                  0             0             0            1  \n",
      "...              ...           ...           ...          ...  \n",
      "1455               0             0             0            1  \n",
      "1456               0             0             0            1  \n",
      "1457               0             0             0            1  \n",
      "1458               0             0             0            1  \n",
      "1459               0             0             0            1  \n",
      "\n",
      "[1460 rows x 173 columns]\n"
     ]
    }
   ],
   "source": [
    "import pandas as pd\n",
    "\n",
    "# apply one hot encoding to columns\n",
    "df_encoded = pd.get_dummies(df, columns=['Neighborhood','Condition1','Condition2','HouseStyle','RoofMatl','Exterior1st','Exterior2nd','Functional','SaleType'])\n",
    "\n",
    "# display the encoded dataframe\n",
    "print(df_encoded)"
   ]
  },
  {
   "cell_type": "code",
   "execution_count": 47,
   "id": "16d7751f",
   "metadata": {},
   "outputs": [
    {
     "data": {
      "text/html": [
       "<div>\n",
       "<style scoped>\n",
       "    .dataframe tbody tr th:only-of-type {\n",
       "        vertical-align: middle;\n",
       "    }\n",
       "\n",
       "    .dataframe tbody tr th {\n",
       "        vertical-align: top;\n",
       "    }\n",
       "\n",
       "    .dataframe thead th {\n",
       "        text-align: right;\n",
       "    }\n",
       "</style>\n",
       "<table border=\"1\" class=\"dataframe\">\n",
       "  <thead>\n",
       "    <tr style=\"text-align: right;\">\n",
       "      <th></th>\n",
       "      <th>Id</th>\n",
       "      <th>MSSubClass</th>\n",
       "      <th>MSZoning</th>\n",
       "      <th>LotFrontage</th>\n",
       "      <th>LotArea</th>\n",
       "      <th>Street</th>\n",
       "      <th>LotShape</th>\n",
       "      <th>LandContour</th>\n",
       "      <th>Utilities</th>\n",
       "      <th>LotConfig</th>\n",
       "      <th>...</th>\n",
       "      <th>Functional_Typ</th>\n",
       "      <th>SaleType_COD</th>\n",
       "      <th>SaleType_CWD</th>\n",
       "      <th>SaleType_Con</th>\n",
       "      <th>SaleType_ConLD</th>\n",
       "      <th>SaleType_ConLI</th>\n",
       "      <th>SaleType_ConLw</th>\n",
       "      <th>SaleType_New</th>\n",
       "      <th>SaleType_Oth</th>\n",
       "      <th>SaleType_WD</th>\n",
       "    </tr>\n",
       "  </thead>\n",
       "  <tbody>\n",
       "    <tr>\n",
       "      <th>0</th>\n",
       "      <td>1</td>\n",
       "      <td>60</td>\n",
       "      <td>3</td>\n",
       "      <td>4.174387</td>\n",
       "      <td>8450</td>\n",
       "      <td>1</td>\n",
       "      <td>3</td>\n",
       "      <td>3</td>\n",
       "      <td>0</td>\n",
       "      <td>4</td>\n",
       "      <td>...</td>\n",
       "      <td>1</td>\n",
       "      <td>0</td>\n",
       "      <td>0</td>\n",
       "      <td>0</td>\n",
       "      <td>0</td>\n",
       "      <td>0</td>\n",
       "      <td>0</td>\n",
       "      <td>0</td>\n",
       "      <td>0</td>\n",
       "      <td>1</td>\n",
       "    </tr>\n",
       "    <tr>\n",
       "      <th>1</th>\n",
       "      <td>2</td>\n",
       "      <td>20</td>\n",
       "      <td>3</td>\n",
       "      <td>4.382027</td>\n",
       "      <td>9600</td>\n",
       "      <td>1</td>\n",
       "      <td>3</td>\n",
       "      <td>3</td>\n",
       "      <td>0</td>\n",
       "      <td>2</td>\n",
       "      <td>...</td>\n",
       "      <td>1</td>\n",
       "      <td>0</td>\n",
       "      <td>0</td>\n",
       "      <td>0</td>\n",
       "      <td>0</td>\n",
       "      <td>0</td>\n",
       "      <td>0</td>\n",
       "      <td>0</td>\n",
       "      <td>0</td>\n",
       "      <td>1</td>\n",
       "    </tr>\n",
       "    <tr>\n",
       "      <th>2</th>\n",
       "      <td>3</td>\n",
       "      <td>60</td>\n",
       "      <td>3</td>\n",
       "      <td>4.219508</td>\n",
       "      <td>11250</td>\n",
       "      <td>1</td>\n",
       "      <td>0</td>\n",
       "      <td>3</td>\n",
       "      <td>0</td>\n",
       "      <td>4</td>\n",
       "      <td>...</td>\n",
       "      <td>1</td>\n",
       "      <td>0</td>\n",
       "      <td>0</td>\n",
       "      <td>0</td>\n",
       "      <td>0</td>\n",
       "      <td>0</td>\n",
       "      <td>0</td>\n",
       "      <td>0</td>\n",
       "      <td>0</td>\n",
       "      <td>1</td>\n",
       "    </tr>\n",
       "    <tr>\n",
       "      <th>3</th>\n",
       "      <td>4</td>\n",
       "      <td>70</td>\n",
       "      <td>3</td>\n",
       "      <td>4.094345</td>\n",
       "      <td>9550</td>\n",
       "      <td>1</td>\n",
       "      <td>0</td>\n",
       "      <td>3</td>\n",
       "      <td>0</td>\n",
       "      <td>0</td>\n",
       "      <td>...</td>\n",
       "      <td>1</td>\n",
       "      <td>0</td>\n",
       "      <td>0</td>\n",
       "      <td>0</td>\n",
       "      <td>0</td>\n",
       "      <td>0</td>\n",
       "      <td>0</td>\n",
       "      <td>0</td>\n",
       "      <td>0</td>\n",
       "      <td>1</td>\n",
       "    </tr>\n",
       "    <tr>\n",
       "      <th>4</th>\n",
       "      <td>5</td>\n",
       "      <td>60</td>\n",
       "      <td>3</td>\n",
       "      <td>4.430817</td>\n",
       "      <td>14260</td>\n",
       "      <td>1</td>\n",
       "      <td>0</td>\n",
       "      <td>3</td>\n",
       "      <td>0</td>\n",
       "      <td>2</td>\n",
       "      <td>...</td>\n",
       "      <td>1</td>\n",
       "      <td>0</td>\n",
       "      <td>0</td>\n",
       "      <td>0</td>\n",
       "      <td>0</td>\n",
       "      <td>0</td>\n",
       "      <td>0</td>\n",
       "      <td>0</td>\n",
       "      <td>0</td>\n",
       "      <td>1</td>\n",
       "    </tr>\n",
       "  </tbody>\n",
       "</table>\n",
       "<p>5 rows × 173 columns</p>\n",
       "</div>"
      ],
      "text/plain": [
       "   Id  MSSubClass  MSZoning  LotFrontage  LotArea  Street  LotShape  \\\n",
       "0   1          60         3     4.174387     8450       1         3   \n",
       "1   2          20         3     4.382027     9600       1         3   \n",
       "2   3          60         3     4.219508    11250       1         0   \n",
       "3   4          70         3     4.094345     9550       1         0   \n",
       "4   5          60         3     4.430817    14260       1         0   \n",
       "\n",
       "   LandContour  Utilities  LotConfig  ...  Functional_Typ  SaleType_COD  \\\n",
       "0            3          0          4  ...               1             0   \n",
       "1            3          0          2  ...               1             0   \n",
       "2            3          0          4  ...               1             0   \n",
       "3            3          0          0  ...               1             0   \n",
       "4            3          0          2  ...               1             0   \n",
       "\n",
       "   SaleType_CWD  SaleType_Con  SaleType_ConLD  SaleType_ConLI  SaleType_ConLw  \\\n",
       "0             0             0               0               0               0   \n",
       "1             0             0               0               0               0   \n",
       "2             0             0               0               0               0   \n",
       "3             0             0               0               0               0   \n",
       "4             0             0               0               0               0   \n",
       "\n",
       "   SaleType_New  SaleType_Oth  SaleType_WD  \n",
       "0             0             0            1  \n",
       "1             0             0            1  \n",
       "2             0             0            1  \n",
       "3             0             0            1  \n",
       "4             0             0            1  \n",
       "\n",
       "[5 rows x 173 columns]"
      ]
     },
     "execution_count": 47,
     "metadata": {},
     "output_type": "execute_result"
    }
   ],
   "source": [
    "\n",
    "df_encoded.head(5)"
   ]
  },
  {
   "cell_type": "markdown",
   "id": "413b0957",
   "metadata": {},
   "source": [
    "## Adding Target Variable"
   ]
  },
  {
   "cell_type": "code",
   "execution_count": 48,
   "id": "60f31f67",
   "metadata": {},
   "outputs": [
    {
     "data": {
      "text/plain": [
       "172"
      ]
     },
     "execution_count": 48,
     "metadata": {},
     "output_type": "execute_result"
    }
   ],
   "source": [
    "target_column = df_encoded.pop('SalePrice')\n",
    "enco = len(df_encoded.columns)\n",
    "enco"
   ]
  },
  {
   "cell_type": "code",
   "execution_count": 49,
   "id": "c42ecd07",
   "metadata": {},
   "outputs": [
    {
     "data": {
      "text/html": [
       "<div>\n",
       "<style scoped>\n",
       "    .dataframe tbody tr th:only-of-type {\n",
       "        vertical-align: middle;\n",
       "    }\n",
       "\n",
       "    .dataframe tbody tr th {\n",
       "        vertical-align: top;\n",
       "    }\n",
       "\n",
       "    .dataframe thead th {\n",
       "        text-align: right;\n",
       "    }\n",
       "</style>\n",
       "<table border=\"1\" class=\"dataframe\">\n",
       "  <thead>\n",
       "    <tr style=\"text-align: right;\">\n",
       "      <th></th>\n",
       "      <th>Id</th>\n",
       "      <th>MSSubClass</th>\n",
       "      <th>MSZoning</th>\n",
       "      <th>LotFrontage</th>\n",
       "      <th>LotArea</th>\n",
       "      <th>Street</th>\n",
       "      <th>LotShape</th>\n",
       "      <th>LandContour</th>\n",
       "      <th>Utilities</th>\n",
       "      <th>LotConfig</th>\n",
       "      <th>...</th>\n",
       "      <th>SaleType_COD</th>\n",
       "      <th>SaleType_CWD</th>\n",
       "      <th>SaleType_Con</th>\n",
       "      <th>SaleType_ConLD</th>\n",
       "      <th>SaleType_ConLI</th>\n",
       "      <th>SaleType_ConLw</th>\n",
       "      <th>SaleType_New</th>\n",
       "      <th>SaleType_Oth</th>\n",
       "      <th>SaleType_WD</th>\n",
       "      <th>SalePrice</th>\n",
       "    </tr>\n",
       "  </thead>\n",
       "  <tbody>\n",
       "    <tr>\n",
       "      <th>0</th>\n",
       "      <td>1</td>\n",
       "      <td>60</td>\n",
       "      <td>3</td>\n",
       "      <td>4.174387</td>\n",
       "      <td>8450</td>\n",
       "      <td>1</td>\n",
       "      <td>3</td>\n",
       "      <td>3</td>\n",
       "      <td>0</td>\n",
       "      <td>4</td>\n",
       "      <td>...</td>\n",
       "      <td>0</td>\n",
       "      <td>0</td>\n",
       "      <td>0</td>\n",
       "      <td>0</td>\n",
       "      <td>0</td>\n",
       "      <td>0</td>\n",
       "      <td>0</td>\n",
       "      <td>0</td>\n",
       "      <td>1</td>\n",
       "      <td>208500</td>\n",
       "    </tr>\n",
       "    <tr>\n",
       "      <th>1</th>\n",
       "      <td>2</td>\n",
       "      <td>20</td>\n",
       "      <td>3</td>\n",
       "      <td>4.382027</td>\n",
       "      <td>9600</td>\n",
       "      <td>1</td>\n",
       "      <td>3</td>\n",
       "      <td>3</td>\n",
       "      <td>0</td>\n",
       "      <td>2</td>\n",
       "      <td>...</td>\n",
       "      <td>0</td>\n",
       "      <td>0</td>\n",
       "      <td>0</td>\n",
       "      <td>0</td>\n",
       "      <td>0</td>\n",
       "      <td>0</td>\n",
       "      <td>0</td>\n",
       "      <td>0</td>\n",
       "      <td>1</td>\n",
       "      <td>181500</td>\n",
       "    </tr>\n",
       "    <tr>\n",
       "      <th>2</th>\n",
       "      <td>3</td>\n",
       "      <td>60</td>\n",
       "      <td>3</td>\n",
       "      <td>4.219508</td>\n",
       "      <td>11250</td>\n",
       "      <td>1</td>\n",
       "      <td>0</td>\n",
       "      <td>3</td>\n",
       "      <td>0</td>\n",
       "      <td>4</td>\n",
       "      <td>...</td>\n",
       "      <td>0</td>\n",
       "      <td>0</td>\n",
       "      <td>0</td>\n",
       "      <td>0</td>\n",
       "      <td>0</td>\n",
       "      <td>0</td>\n",
       "      <td>0</td>\n",
       "      <td>0</td>\n",
       "      <td>1</td>\n",
       "      <td>223500</td>\n",
       "    </tr>\n",
       "    <tr>\n",
       "      <th>3</th>\n",
       "      <td>4</td>\n",
       "      <td>70</td>\n",
       "      <td>3</td>\n",
       "      <td>4.094345</td>\n",
       "      <td>9550</td>\n",
       "      <td>1</td>\n",
       "      <td>0</td>\n",
       "      <td>3</td>\n",
       "      <td>0</td>\n",
       "      <td>0</td>\n",
       "      <td>...</td>\n",
       "      <td>0</td>\n",
       "      <td>0</td>\n",
       "      <td>0</td>\n",
       "      <td>0</td>\n",
       "      <td>0</td>\n",
       "      <td>0</td>\n",
       "      <td>0</td>\n",
       "      <td>0</td>\n",
       "      <td>1</td>\n",
       "      <td>140000</td>\n",
       "    </tr>\n",
       "    <tr>\n",
       "      <th>4</th>\n",
       "      <td>5</td>\n",
       "      <td>60</td>\n",
       "      <td>3</td>\n",
       "      <td>4.430817</td>\n",
       "      <td>14260</td>\n",
       "      <td>1</td>\n",
       "      <td>0</td>\n",
       "      <td>3</td>\n",
       "      <td>0</td>\n",
       "      <td>2</td>\n",
       "      <td>...</td>\n",
       "      <td>0</td>\n",
       "      <td>0</td>\n",
       "      <td>0</td>\n",
       "      <td>0</td>\n",
       "      <td>0</td>\n",
       "      <td>0</td>\n",
       "      <td>0</td>\n",
       "      <td>0</td>\n",
       "      <td>1</td>\n",
       "      <td>250000</td>\n",
       "    </tr>\n",
       "  </tbody>\n",
       "</table>\n",
       "<p>5 rows × 173 columns</p>\n",
       "</div>"
      ],
      "text/plain": [
       "   Id  MSSubClass  MSZoning  LotFrontage  LotArea  Street  LotShape  \\\n",
       "0   1          60         3     4.174387     8450       1         3   \n",
       "1   2          20         3     4.382027     9600       1         3   \n",
       "2   3          60         3     4.219508    11250       1         0   \n",
       "3   4          70         3     4.094345     9550       1         0   \n",
       "4   5          60         3     4.430817    14260       1         0   \n",
       "\n",
       "   LandContour  Utilities  LotConfig  ...  SaleType_COD  SaleType_CWD  \\\n",
       "0            3          0          4  ...             0             0   \n",
       "1            3          0          2  ...             0             0   \n",
       "2            3          0          4  ...             0             0   \n",
       "3            3          0          0  ...             0             0   \n",
       "4            3          0          2  ...             0             0   \n",
       "\n",
       "   SaleType_Con  SaleType_ConLD  SaleType_ConLI  SaleType_ConLw  SaleType_New  \\\n",
       "0             0               0               0               0             0   \n",
       "1             0               0               0               0             0   \n",
       "2             0               0               0               0             0   \n",
       "3             0               0               0               0             0   \n",
       "4             0               0               0               0             0   \n",
       "\n",
       "   SaleType_Oth  SaleType_WD  SalePrice  \n",
       "0             0            1     208500  \n",
       "1             0            1     181500  \n",
       "2             0            1     223500  \n",
       "3             0            1     140000  \n",
       "4             0            1     250000  \n",
       "\n",
       "[5 rows x 173 columns]"
      ]
     },
     "execution_count": 49,
     "metadata": {},
     "output_type": "execute_result"
    }
   ],
   "source": [
    "df_encoded.insert(enco,'SalePrice', target_column)\n",
    "df_encoded.head(5)"
   ]
  },
  {
   "cell_type": "code",
   "execution_count": 50,
   "id": "6b91a3f5",
   "metadata": {},
   "outputs": [
    {
     "data": {
      "text/plain": [
       "['Id',\n",
       " 'MSSubClass',\n",
       " 'LotFrontage',\n",
       " 'LotArea',\n",
       " 'OverallQual',\n",
       " 'OverallCond',\n",
       " 'YearBuilt',\n",
       " 'YearRemodAdd',\n",
       " 'MasVnrArea',\n",
       " 'BsmtFinSF1',\n",
       " 'BsmtFinSF2',\n",
       " 'BsmtUnfSF',\n",
       " 'TotalBsmtSF',\n",
       " '1stFlrSF',\n",
       " '2ndFlrSF',\n",
       " 'LowQualFinSF',\n",
       " 'GrLivArea',\n",
       " 'BsmtFullBath',\n",
       " 'BsmtHalfBath',\n",
       " 'FullBath',\n",
       " 'HalfBath',\n",
       " 'BedroomAbvGr',\n",
       " 'KitchenAbvGr',\n",
       " 'TotRmsAbvGrd',\n",
       " 'Fireplaces',\n",
       " 'GarageYrBlt',\n",
       " 'GarageCars',\n",
       " 'GarageArea',\n",
       " 'WoodDeckSF',\n",
       " 'OpenPorchSF',\n",
       " 'EnclosedPorch',\n",
       " '3SsnPorch',\n",
       " 'ScreenPorch',\n",
       " 'PoolArea',\n",
       " 'MiscVal',\n",
       " 'MoSold',\n",
       " 'YrSold',\n",
       " 'SalePrice']"
      ]
     },
     "execution_count": 50,
     "metadata": {},
     "output_type": "execute_result"
    }
   ],
   "source": [
    "numeric_columns"
   ]
  },
  {
   "cell_type": "code",
   "execution_count": 51,
   "id": "d383e406",
   "metadata": {},
   "outputs": [],
   "source": [
    "numeric_columns.remove('Id')\n",
    "numeric_columns.remove('SalePrice')"
   ]
  },
  {
   "cell_type": "code",
   "execution_count": 52,
   "id": "2e53bb1e",
   "metadata": {},
   "outputs": [
    {
     "data": {
      "text/plain": [
       "36"
      ]
     },
     "execution_count": 52,
     "metadata": {},
     "output_type": "execute_result"
    }
   ],
   "source": [
    "len(numeric_columns)"
   ]
  },
  {
   "cell_type": "code",
   "execution_count": 53,
   "id": "df34967f",
   "metadata": {},
   "outputs": [
    {
     "data": {
      "text/plain": [
       "['MSSubClass',\n",
       " 'LotFrontage',\n",
       " 'LotArea',\n",
       " 'OverallQual',\n",
       " 'OverallCond',\n",
       " 'YearBuilt',\n",
       " 'YearRemodAdd',\n",
       " 'MasVnrArea',\n",
       " 'BsmtFinSF1',\n",
       " 'BsmtFinSF2',\n",
       " 'BsmtUnfSF',\n",
       " 'TotalBsmtSF',\n",
       " '1stFlrSF',\n",
       " '2ndFlrSF',\n",
       " 'LowQualFinSF',\n",
       " 'GrLivArea',\n",
       " 'BsmtFullBath',\n",
       " 'BsmtHalfBath',\n",
       " 'FullBath',\n",
       " 'HalfBath',\n",
       " 'BedroomAbvGr',\n",
       " 'KitchenAbvGr',\n",
       " 'TotRmsAbvGrd',\n",
       " 'Fireplaces',\n",
       " 'GarageYrBlt',\n",
       " 'GarageCars',\n",
       " 'GarageArea',\n",
       " 'WoodDeckSF',\n",
       " 'OpenPorchSF',\n",
       " 'EnclosedPorch',\n",
       " '3SsnPorch',\n",
       " 'ScreenPorch',\n",
       " 'PoolArea',\n",
       " 'MiscVal',\n",
       " 'MoSold',\n",
       " 'YrSold']"
      ]
     },
     "execution_count": 53,
     "metadata": {},
     "output_type": "execute_result"
    }
   ],
   "source": [
    "numeric_columns"
   ]
  },
  {
   "cell_type": "code",
   "execution_count": 54,
   "id": "3f4f524a",
   "metadata": {},
   "outputs": [],
   "source": [
    "final_cols = numeric_columns"
   ]
  },
  {
   "cell_type": "code",
   "execution_count": 55,
   "id": "8d4afd18",
   "metadata": {},
   "outputs": [],
   "source": [
    "from sklearn.preprocessing import StandardScaler\n",
    "\n",
    "scaler = StandardScaler()\n",
    "\n",
    "df_encoded[final_cols] = scaler.fit_transform(df_encoded[final_cols]) "
   ]
  },
  {
   "cell_type": "code",
   "execution_count": 56,
   "id": "44d4859c",
   "metadata": {},
   "outputs": [
    {
     "data": {
      "text/html": [
       "<div>\n",
       "<style scoped>\n",
       "    .dataframe tbody tr th:only-of-type {\n",
       "        vertical-align: middle;\n",
       "    }\n",
       "\n",
       "    .dataframe tbody tr th {\n",
       "        vertical-align: top;\n",
       "    }\n",
       "\n",
       "    .dataframe thead th {\n",
       "        text-align: right;\n",
       "    }\n",
       "</style>\n",
       "<table border=\"1\" class=\"dataframe\">\n",
       "  <thead>\n",
       "    <tr style=\"text-align: right;\">\n",
       "      <th></th>\n",
       "      <th>Id</th>\n",
       "      <th>MSSubClass</th>\n",
       "      <th>MSZoning</th>\n",
       "      <th>LotFrontage</th>\n",
       "      <th>LotArea</th>\n",
       "      <th>Street</th>\n",
       "      <th>LotShape</th>\n",
       "      <th>LandContour</th>\n",
       "      <th>Utilities</th>\n",
       "      <th>LotConfig</th>\n",
       "      <th>...</th>\n",
       "      <th>SaleType_COD</th>\n",
       "      <th>SaleType_CWD</th>\n",
       "      <th>SaleType_Con</th>\n",
       "      <th>SaleType_ConLD</th>\n",
       "      <th>SaleType_ConLI</th>\n",
       "      <th>SaleType_ConLw</th>\n",
       "      <th>SaleType_New</th>\n",
       "      <th>SaleType_Oth</th>\n",
       "      <th>SaleType_WD</th>\n",
       "      <th>SalePrice</th>\n",
       "    </tr>\n",
       "  </thead>\n",
       "  <tbody>\n",
       "    <tr>\n",
       "      <th>0</th>\n",
       "      <td>1</td>\n",
       "      <td>0.073375</td>\n",
       "      <td>3</td>\n",
       "      <td>0.001533</td>\n",
       "      <td>-0.207142</td>\n",
       "      <td>1</td>\n",
       "      <td>3</td>\n",
       "      <td>3</td>\n",
       "      <td>0</td>\n",
       "      <td>4</td>\n",
       "      <td>...</td>\n",
       "      <td>0</td>\n",
       "      <td>0</td>\n",
       "      <td>0</td>\n",
       "      <td>0</td>\n",
       "      <td>0</td>\n",
       "      <td>0</td>\n",
       "      <td>0</td>\n",
       "      <td>0</td>\n",
       "      <td>1</td>\n",
       "      <td>208500</td>\n",
       "    </tr>\n",
       "    <tr>\n",
       "      <th>1</th>\n",
       "      <td>2</td>\n",
       "      <td>-0.872563</td>\n",
       "      <td>3</td>\n",
       "      <td>0.646396</td>\n",
       "      <td>-0.091886</td>\n",
       "      <td>1</td>\n",
       "      <td>3</td>\n",
       "      <td>3</td>\n",
       "      <td>0</td>\n",
       "      <td>2</td>\n",
       "      <td>...</td>\n",
       "      <td>0</td>\n",
       "      <td>0</td>\n",
       "      <td>0</td>\n",
       "      <td>0</td>\n",
       "      <td>0</td>\n",
       "      <td>0</td>\n",
       "      <td>0</td>\n",
       "      <td>0</td>\n",
       "      <td>1</td>\n",
       "      <td>181500</td>\n",
       "    </tr>\n",
       "    <tr>\n",
       "      <th>2</th>\n",
       "      <td>3</td>\n",
       "      <td>0.073375</td>\n",
       "      <td>3</td>\n",
       "      <td>0.141663</td>\n",
       "      <td>0.073480</td>\n",
       "      <td>1</td>\n",
       "      <td>0</td>\n",
       "      <td>3</td>\n",
       "      <td>0</td>\n",
       "      <td>4</td>\n",
       "      <td>...</td>\n",
       "      <td>0</td>\n",
       "      <td>0</td>\n",
       "      <td>0</td>\n",
       "      <td>0</td>\n",
       "      <td>0</td>\n",
       "      <td>0</td>\n",
       "      <td>0</td>\n",
       "      <td>0</td>\n",
       "      <td>1</td>\n",
       "      <td>223500</td>\n",
       "    </tr>\n",
       "    <tr>\n",
       "      <th>3</th>\n",
       "      <td>4</td>\n",
       "      <td>0.309859</td>\n",
       "      <td>3</td>\n",
       "      <td>-0.247054</td>\n",
       "      <td>-0.096897</td>\n",
       "      <td>1</td>\n",
       "      <td>0</td>\n",
       "      <td>3</td>\n",
       "      <td>0</td>\n",
       "      <td>0</td>\n",
       "      <td>...</td>\n",
       "      <td>0</td>\n",
       "      <td>0</td>\n",
       "      <td>0</td>\n",
       "      <td>0</td>\n",
       "      <td>0</td>\n",
       "      <td>0</td>\n",
       "      <td>0</td>\n",
       "      <td>0</td>\n",
       "      <td>1</td>\n",
       "      <td>140000</td>\n",
       "    </tr>\n",
       "    <tr>\n",
       "      <th>4</th>\n",
       "      <td>5</td>\n",
       "      <td>0.073375</td>\n",
       "      <td>3</td>\n",
       "      <td>0.797923</td>\n",
       "      <td>0.375148</td>\n",
       "      <td>1</td>\n",
       "      <td>0</td>\n",
       "      <td>3</td>\n",
       "      <td>0</td>\n",
       "      <td>2</td>\n",
       "      <td>...</td>\n",
       "      <td>0</td>\n",
       "      <td>0</td>\n",
       "      <td>0</td>\n",
       "      <td>0</td>\n",
       "      <td>0</td>\n",
       "      <td>0</td>\n",
       "      <td>0</td>\n",
       "      <td>0</td>\n",
       "      <td>1</td>\n",
       "      <td>250000</td>\n",
       "    </tr>\n",
       "    <tr>\n",
       "      <th>...</th>\n",
       "      <td>...</td>\n",
       "      <td>...</td>\n",
       "      <td>...</td>\n",
       "      <td>...</td>\n",
       "      <td>...</td>\n",
       "      <td>...</td>\n",
       "      <td>...</td>\n",
       "      <td>...</td>\n",
       "      <td>...</td>\n",
       "      <td>...</td>\n",
       "      <td>...</td>\n",
       "      <td>...</td>\n",
       "      <td>...</td>\n",
       "      <td>...</td>\n",
       "      <td>...</td>\n",
       "      <td>...</td>\n",
       "      <td>...</td>\n",
       "      <td>...</td>\n",
       "      <td>...</td>\n",
       "      <td>...</td>\n",
       "      <td>...</td>\n",
       "    </tr>\n",
       "    <tr>\n",
       "      <th>1455</th>\n",
       "      <td>1456</td>\n",
       "      <td>0.073375</td>\n",
       "      <td>3</td>\n",
       "      <td>-0.145219</td>\n",
       "      <td>-0.260560</td>\n",
       "      <td>1</td>\n",
       "      <td>3</td>\n",
       "      <td>3</td>\n",
       "      <td>0</td>\n",
       "      <td>4</td>\n",
       "      <td>...</td>\n",
       "      <td>0</td>\n",
       "      <td>0</td>\n",
       "      <td>0</td>\n",
       "      <td>0</td>\n",
       "      <td>0</td>\n",
       "      <td>0</td>\n",
       "      <td>0</td>\n",
       "      <td>0</td>\n",
       "      <td>1</td>\n",
       "      <td>175000</td>\n",
       "    </tr>\n",
       "    <tr>\n",
       "      <th>1456</th>\n",
       "      <td>1457</td>\n",
       "      <td>-0.872563</td>\n",
       "      <td>3</td>\n",
       "      <td>0.834677</td>\n",
       "      <td>0.266407</td>\n",
       "      <td>1</td>\n",
       "      <td>3</td>\n",
       "      <td>3</td>\n",
       "      <td>0</td>\n",
       "      <td>4</td>\n",
       "      <td>...</td>\n",
       "      <td>0</td>\n",
       "      <td>0</td>\n",
       "      <td>0</td>\n",
       "      <td>0</td>\n",
       "      <td>0</td>\n",
       "      <td>0</td>\n",
       "      <td>0</td>\n",
       "      <td>0</td>\n",
       "      <td>1</td>\n",
       "      <td>210000</td>\n",
       "    </tr>\n",
       "    <tr>\n",
       "      <th>1457</th>\n",
       "      <td>1458</td>\n",
       "      <td>0.309859</td>\n",
       "      <td>3</td>\n",
       "      <td>0.048949</td>\n",
       "      <td>-0.147810</td>\n",
       "      <td>1</td>\n",
       "      <td>3</td>\n",
       "      <td>3</td>\n",
       "      <td>0</td>\n",
       "      <td>4</td>\n",
       "      <td>...</td>\n",
       "      <td>0</td>\n",
       "      <td>0</td>\n",
       "      <td>0</td>\n",
       "      <td>0</td>\n",
       "      <td>0</td>\n",
       "      <td>0</td>\n",
       "      <td>0</td>\n",
       "      <td>0</td>\n",
       "      <td>1</td>\n",
       "      <td>266500</td>\n",
       "    </tr>\n",
       "    <tr>\n",
       "      <th>1458</th>\n",
       "      <td>1459</td>\n",
       "      <td>-0.872563</td>\n",
       "      <td>3</td>\n",
       "      <td>0.141663</td>\n",
       "      <td>-0.080160</td>\n",
       "      <td>1</td>\n",
       "      <td>3</td>\n",
       "      <td>3</td>\n",
       "      <td>0</td>\n",
       "      <td>4</td>\n",
       "      <td>...</td>\n",
       "      <td>0</td>\n",
       "      <td>0</td>\n",
       "      <td>0</td>\n",
       "      <td>0</td>\n",
       "      <td>0</td>\n",
       "      <td>0</td>\n",
       "      <td>0</td>\n",
       "      <td>0</td>\n",
       "      <td>1</td>\n",
       "      <td>142125</td>\n",
       "    </tr>\n",
       "    <tr>\n",
       "      <th>1459</th>\n",
       "      <td>1460</td>\n",
       "      <td>-0.872563</td>\n",
       "      <td>3</td>\n",
       "      <td>0.445959</td>\n",
       "      <td>-0.058112</td>\n",
       "      <td>1</td>\n",
       "      <td>3</td>\n",
       "      <td>3</td>\n",
       "      <td>0</td>\n",
       "      <td>4</td>\n",
       "      <td>...</td>\n",
       "      <td>0</td>\n",
       "      <td>0</td>\n",
       "      <td>0</td>\n",
       "      <td>0</td>\n",
       "      <td>0</td>\n",
       "      <td>0</td>\n",
       "      <td>0</td>\n",
       "      <td>0</td>\n",
       "      <td>1</td>\n",
       "      <td>147500</td>\n",
       "    </tr>\n",
       "  </tbody>\n",
       "</table>\n",
       "<p>1460 rows × 173 columns</p>\n",
       "</div>"
      ],
      "text/plain": [
       "        Id  MSSubClass  MSZoning  LotFrontage   LotArea  Street  LotShape  \\\n",
       "0        1    0.073375         3     0.001533 -0.207142       1         3   \n",
       "1        2   -0.872563         3     0.646396 -0.091886       1         3   \n",
       "2        3    0.073375         3     0.141663  0.073480       1         0   \n",
       "3        4    0.309859         3    -0.247054 -0.096897       1         0   \n",
       "4        5    0.073375         3     0.797923  0.375148       1         0   \n",
       "...    ...         ...       ...          ...       ...     ...       ...   \n",
       "1455  1456    0.073375         3    -0.145219 -0.260560       1         3   \n",
       "1456  1457   -0.872563         3     0.834677  0.266407       1         3   \n",
       "1457  1458    0.309859         3     0.048949 -0.147810       1         3   \n",
       "1458  1459   -0.872563         3     0.141663 -0.080160       1         3   \n",
       "1459  1460   -0.872563         3     0.445959 -0.058112       1         3   \n",
       "\n",
       "      LandContour  Utilities  LotConfig  ...  SaleType_COD  SaleType_CWD  \\\n",
       "0               3          0          4  ...             0             0   \n",
       "1               3          0          2  ...             0             0   \n",
       "2               3          0          4  ...             0             0   \n",
       "3               3          0          0  ...             0             0   \n",
       "4               3          0          2  ...             0             0   \n",
       "...           ...        ...        ...  ...           ...           ...   \n",
       "1455            3          0          4  ...             0             0   \n",
       "1456            3          0          4  ...             0             0   \n",
       "1457            3          0          4  ...             0             0   \n",
       "1458            3          0          4  ...             0             0   \n",
       "1459            3          0          4  ...             0             0   \n",
       "\n",
       "      SaleType_Con  SaleType_ConLD  SaleType_ConLI  SaleType_ConLw  \\\n",
       "0                0               0               0               0   \n",
       "1                0               0               0               0   \n",
       "2                0               0               0               0   \n",
       "3                0               0               0               0   \n",
       "4                0               0               0               0   \n",
       "...            ...             ...             ...             ...   \n",
       "1455             0               0               0               0   \n",
       "1456             0               0               0               0   \n",
       "1457             0               0               0               0   \n",
       "1458             0               0               0               0   \n",
       "1459             0               0               0               0   \n",
       "\n",
       "      SaleType_New  SaleType_Oth  SaleType_WD  SalePrice  \n",
       "0                0             0            1     208500  \n",
       "1                0             0            1     181500  \n",
       "2                0             0            1     223500  \n",
       "3                0             0            1     140000  \n",
       "4                0             0            1     250000  \n",
       "...            ...           ...          ...        ...  \n",
       "1455             0             0            1     175000  \n",
       "1456             0             0            1     210000  \n",
       "1457             0             0            1     266500  \n",
       "1458             0             0            1     142125  \n",
       "1459             0             0            1     147500  \n",
       "\n",
       "[1460 rows x 173 columns]"
      ]
     },
     "execution_count": 56,
     "metadata": {},
     "output_type": "execute_result"
    }
   ],
   "source": [
    "df_encoded"
   ]
  },
  {
   "cell_type": "markdown",
   "id": "a988b91b",
   "metadata": {},
   "source": [
    "# 3) Implementing the all the 5 regression models separately on the data set"
   ]
  },
  {
   "cell_type": "markdown",
   "id": "ab728010",
   "metadata": {},
   "source": [
    "## Simple Linear Regression"
   ]
  },
  {
   "cell_type": "code",
   "execution_count": 57,
   "id": "387ed127",
   "metadata": {},
   "outputs": [],
   "source": [
    "def Emetrics(y_test,y_pred):\n",
    "  from sklearn import metrics\n",
    "\n",
    "  # Print result of MAE\n",
    "  print(f\"Mean Absoulute error is : {metrics.mean_absolute_error(y_test,y_pred)}\")\n",
    "\n",
    "  # Print result of MSE\n",
    "  print(f\"Mean Squared error is: {metrics.mean_squared_error(y_test,y_pred)}\")\n",
    "\n",
    "  # Print result of RMSE\n",
    "  print(f\"Root Mean Square error is: {np.sqrt(metrics.mean_squared_error(y_test,y_pred))}\")\n",
    "\n",
    "  # Print result of R2\n",
    "  print(f\"R2 score is: {metrics.r2_score(y_test,y_pred)}\")"
   ]
  },
  {
   "cell_type": "code",
   "execution_count": 58,
   "id": "fc8ccc12",
   "metadata": {},
   "outputs": [
    {
     "data": {
      "text/html": [
       "<div>\n",
       "<style scoped>\n",
       "    .dataframe tbody tr th:only-of-type {\n",
       "        vertical-align: middle;\n",
       "    }\n",
       "\n",
       "    .dataframe tbody tr th {\n",
       "        vertical-align: top;\n",
       "    }\n",
       "\n",
       "    .dataframe thead th {\n",
       "        text-align: right;\n",
       "    }\n",
       "</style>\n",
       "<table border=\"1\" class=\"dataframe\">\n",
       "  <thead>\n",
       "    <tr style=\"text-align: right;\">\n",
       "      <th></th>\n",
       "      <th>Id</th>\n",
       "      <th>MSSubClass</th>\n",
       "      <th>MSZoning</th>\n",
       "      <th>LotFrontage</th>\n",
       "      <th>LotArea</th>\n",
       "      <th>Street</th>\n",
       "      <th>LotShape</th>\n",
       "      <th>LandContour</th>\n",
       "      <th>Utilities</th>\n",
       "      <th>LotConfig</th>\n",
       "      <th>...</th>\n",
       "      <th>SaleType_COD</th>\n",
       "      <th>SaleType_CWD</th>\n",
       "      <th>SaleType_Con</th>\n",
       "      <th>SaleType_ConLD</th>\n",
       "      <th>SaleType_ConLI</th>\n",
       "      <th>SaleType_ConLw</th>\n",
       "      <th>SaleType_New</th>\n",
       "      <th>SaleType_Oth</th>\n",
       "      <th>SaleType_WD</th>\n",
       "      <th>SalePrice</th>\n",
       "    </tr>\n",
       "  </thead>\n",
       "  <tbody>\n",
       "    <tr>\n",
       "      <th>0</th>\n",
       "      <td>1</td>\n",
       "      <td>0.073375</td>\n",
       "      <td>3</td>\n",
       "      <td>0.001533</td>\n",
       "      <td>-0.207142</td>\n",
       "      <td>1</td>\n",
       "      <td>3</td>\n",
       "      <td>3</td>\n",
       "      <td>0</td>\n",
       "      <td>4</td>\n",
       "      <td>...</td>\n",
       "      <td>0</td>\n",
       "      <td>0</td>\n",
       "      <td>0</td>\n",
       "      <td>0</td>\n",
       "      <td>0</td>\n",
       "      <td>0</td>\n",
       "      <td>0</td>\n",
       "      <td>0</td>\n",
       "      <td>1</td>\n",
       "      <td>208500</td>\n",
       "    </tr>\n",
       "    <tr>\n",
       "      <th>1</th>\n",
       "      <td>2</td>\n",
       "      <td>-0.872563</td>\n",
       "      <td>3</td>\n",
       "      <td>0.646396</td>\n",
       "      <td>-0.091886</td>\n",
       "      <td>1</td>\n",
       "      <td>3</td>\n",
       "      <td>3</td>\n",
       "      <td>0</td>\n",
       "      <td>2</td>\n",
       "      <td>...</td>\n",
       "      <td>0</td>\n",
       "      <td>0</td>\n",
       "      <td>0</td>\n",
       "      <td>0</td>\n",
       "      <td>0</td>\n",
       "      <td>0</td>\n",
       "      <td>0</td>\n",
       "      <td>0</td>\n",
       "      <td>1</td>\n",
       "      <td>181500</td>\n",
       "    </tr>\n",
       "    <tr>\n",
       "      <th>2</th>\n",
       "      <td>3</td>\n",
       "      <td>0.073375</td>\n",
       "      <td>3</td>\n",
       "      <td>0.141663</td>\n",
       "      <td>0.073480</td>\n",
       "      <td>1</td>\n",
       "      <td>0</td>\n",
       "      <td>3</td>\n",
       "      <td>0</td>\n",
       "      <td>4</td>\n",
       "      <td>...</td>\n",
       "      <td>0</td>\n",
       "      <td>0</td>\n",
       "      <td>0</td>\n",
       "      <td>0</td>\n",
       "      <td>0</td>\n",
       "      <td>0</td>\n",
       "      <td>0</td>\n",
       "      <td>0</td>\n",
       "      <td>1</td>\n",
       "      <td>223500</td>\n",
       "    </tr>\n",
       "    <tr>\n",
       "      <th>3</th>\n",
       "      <td>4</td>\n",
       "      <td>0.309859</td>\n",
       "      <td>3</td>\n",
       "      <td>-0.247054</td>\n",
       "      <td>-0.096897</td>\n",
       "      <td>1</td>\n",
       "      <td>0</td>\n",
       "      <td>3</td>\n",
       "      <td>0</td>\n",
       "      <td>0</td>\n",
       "      <td>...</td>\n",
       "      <td>0</td>\n",
       "      <td>0</td>\n",
       "      <td>0</td>\n",
       "      <td>0</td>\n",
       "      <td>0</td>\n",
       "      <td>0</td>\n",
       "      <td>0</td>\n",
       "      <td>0</td>\n",
       "      <td>1</td>\n",
       "      <td>140000</td>\n",
       "    </tr>\n",
       "    <tr>\n",
       "      <th>4</th>\n",
       "      <td>5</td>\n",
       "      <td>0.073375</td>\n",
       "      <td>3</td>\n",
       "      <td>0.797923</td>\n",
       "      <td>0.375148</td>\n",
       "      <td>1</td>\n",
       "      <td>0</td>\n",
       "      <td>3</td>\n",
       "      <td>0</td>\n",
       "      <td>2</td>\n",
       "      <td>...</td>\n",
       "      <td>0</td>\n",
       "      <td>0</td>\n",
       "      <td>0</td>\n",
       "      <td>0</td>\n",
       "      <td>0</td>\n",
       "      <td>0</td>\n",
       "      <td>0</td>\n",
       "      <td>0</td>\n",
       "      <td>1</td>\n",
       "      <td>250000</td>\n",
       "    </tr>\n",
       "  </tbody>\n",
       "</table>\n",
       "<p>5 rows × 173 columns</p>\n",
       "</div>"
      ],
      "text/plain": [
       "   Id  MSSubClass  MSZoning  LotFrontage   LotArea  Street  LotShape  \\\n",
       "0   1    0.073375         3     0.001533 -0.207142       1         3   \n",
       "1   2   -0.872563         3     0.646396 -0.091886       1         3   \n",
       "2   3    0.073375         3     0.141663  0.073480       1         0   \n",
       "3   4    0.309859         3    -0.247054 -0.096897       1         0   \n",
       "4   5    0.073375         3     0.797923  0.375148       1         0   \n",
       "\n",
       "   LandContour  Utilities  LotConfig  ...  SaleType_COD  SaleType_CWD  \\\n",
       "0            3          0          4  ...             0             0   \n",
       "1            3          0          2  ...             0             0   \n",
       "2            3          0          4  ...             0             0   \n",
       "3            3          0          0  ...             0             0   \n",
       "4            3          0          2  ...             0             0   \n",
       "\n",
       "   SaleType_Con  SaleType_ConLD  SaleType_ConLI  SaleType_ConLw  SaleType_New  \\\n",
       "0             0               0               0               0             0   \n",
       "1             0               0               0               0             0   \n",
       "2             0               0               0               0             0   \n",
       "3             0               0               0               0             0   \n",
       "4             0               0               0               0             0   \n",
       "\n",
       "   SaleType_Oth  SaleType_WD  SalePrice  \n",
       "0             0            1     208500  \n",
       "1             0            1     181500  \n",
       "2             0            1     223500  \n",
       "3             0            1     140000  \n",
       "4             0            1     250000  \n",
       "\n",
       "[5 rows x 173 columns]"
      ]
     },
     "execution_count": 58,
     "metadata": {},
     "output_type": "execute_result"
    }
   ],
   "source": [
    "df_encoded.head(5)"
   ]
  },
  {
   "cell_type": "code",
   "execution_count": 59,
   "id": "1e7c01c7",
   "metadata": {},
   "outputs": [
    {
     "data": {
      "text/html": [
       "<div>\n",
       "<style scoped>\n",
       "    .dataframe tbody tr th:only-of-type {\n",
       "        vertical-align: middle;\n",
       "    }\n",
       "\n",
       "    .dataframe tbody tr th {\n",
       "        vertical-align: top;\n",
       "    }\n",
       "\n",
       "    .dataframe thead th {\n",
       "        text-align: right;\n",
       "    }\n",
       "</style>\n",
       "<table border=\"1\" class=\"dataframe\">\n",
       "  <thead>\n",
       "    <tr style=\"text-align: right;\">\n",
       "      <th></th>\n",
       "      <th>Id</th>\n",
       "      <th>MSSubClass</th>\n",
       "      <th>MSZoning</th>\n",
       "      <th>LotFrontage</th>\n",
       "      <th>LotArea</th>\n",
       "      <th>Street</th>\n",
       "      <th>LotShape</th>\n",
       "      <th>LandContour</th>\n",
       "      <th>Utilities</th>\n",
       "      <th>LotConfig</th>\n",
       "      <th>...</th>\n",
       "      <th>SaleType_COD</th>\n",
       "      <th>SaleType_CWD</th>\n",
       "      <th>SaleType_Con</th>\n",
       "      <th>SaleType_ConLD</th>\n",
       "      <th>SaleType_ConLI</th>\n",
       "      <th>SaleType_ConLw</th>\n",
       "      <th>SaleType_New</th>\n",
       "      <th>SaleType_Oth</th>\n",
       "      <th>SaleType_WD</th>\n",
       "      <th>SalePrice</th>\n",
       "    </tr>\n",
       "  </thead>\n",
       "  <tbody>\n",
       "    <tr>\n",
       "      <th>0</th>\n",
       "      <td>1</td>\n",
       "      <td>0.073375</td>\n",
       "      <td>3</td>\n",
       "      <td>0.001533</td>\n",
       "      <td>-0.207142</td>\n",
       "      <td>1</td>\n",
       "      <td>3</td>\n",
       "      <td>3</td>\n",
       "      <td>0</td>\n",
       "      <td>4</td>\n",
       "      <td>...</td>\n",
       "      <td>0</td>\n",
       "      <td>0</td>\n",
       "      <td>0</td>\n",
       "      <td>0</td>\n",
       "      <td>0</td>\n",
       "      <td>0</td>\n",
       "      <td>0</td>\n",
       "      <td>0</td>\n",
       "      <td>1</td>\n",
       "      <td>208500</td>\n",
       "    </tr>\n",
       "    <tr>\n",
       "      <th>1</th>\n",
       "      <td>2</td>\n",
       "      <td>-0.872563</td>\n",
       "      <td>3</td>\n",
       "      <td>0.646396</td>\n",
       "      <td>-0.091886</td>\n",
       "      <td>1</td>\n",
       "      <td>3</td>\n",
       "      <td>3</td>\n",
       "      <td>0</td>\n",
       "      <td>2</td>\n",
       "      <td>...</td>\n",
       "      <td>0</td>\n",
       "      <td>0</td>\n",
       "      <td>0</td>\n",
       "      <td>0</td>\n",
       "      <td>0</td>\n",
       "      <td>0</td>\n",
       "      <td>0</td>\n",
       "      <td>0</td>\n",
       "      <td>1</td>\n",
       "      <td>181500</td>\n",
       "    </tr>\n",
       "    <tr>\n",
       "      <th>2</th>\n",
       "      <td>3</td>\n",
       "      <td>0.073375</td>\n",
       "      <td>3</td>\n",
       "      <td>0.141663</td>\n",
       "      <td>0.073480</td>\n",
       "      <td>1</td>\n",
       "      <td>0</td>\n",
       "      <td>3</td>\n",
       "      <td>0</td>\n",
       "      <td>4</td>\n",
       "      <td>...</td>\n",
       "      <td>0</td>\n",
       "      <td>0</td>\n",
       "      <td>0</td>\n",
       "      <td>0</td>\n",
       "      <td>0</td>\n",
       "      <td>0</td>\n",
       "      <td>0</td>\n",
       "      <td>0</td>\n",
       "      <td>1</td>\n",
       "      <td>223500</td>\n",
       "    </tr>\n",
       "    <tr>\n",
       "      <th>3</th>\n",
       "      <td>4</td>\n",
       "      <td>0.309859</td>\n",
       "      <td>3</td>\n",
       "      <td>-0.247054</td>\n",
       "      <td>-0.096897</td>\n",
       "      <td>1</td>\n",
       "      <td>0</td>\n",
       "      <td>3</td>\n",
       "      <td>0</td>\n",
       "      <td>0</td>\n",
       "      <td>...</td>\n",
       "      <td>0</td>\n",
       "      <td>0</td>\n",
       "      <td>0</td>\n",
       "      <td>0</td>\n",
       "      <td>0</td>\n",
       "      <td>0</td>\n",
       "      <td>0</td>\n",
       "      <td>0</td>\n",
       "      <td>1</td>\n",
       "      <td>140000</td>\n",
       "    </tr>\n",
       "    <tr>\n",
       "      <th>4</th>\n",
       "      <td>5</td>\n",
       "      <td>0.073375</td>\n",
       "      <td>3</td>\n",
       "      <td>0.797923</td>\n",
       "      <td>0.375148</td>\n",
       "      <td>1</td>\n",
       "      <td>0</td>\n",
       "      <td>3</td>\n",
       "      <td>0</td>\n",
       "      <td>2</td>\n",
       "      <td>...</td>\n",
       "      <td>0</td>\n",
       "      <td>0</td>\n",
       "      <td>0</td>\n",
       "      <td>0</td>\n",
       "      <td>0</td>\n",
       "      <td>0</td>\n",
       "      <td>0</td>\n",
       "      <td>0</td>\n",
       "      <td>1</td>\n",
       "      <td>250000</td>\n",
       "    </tr>\n",
       "  </tbody>\n",
       "</table>\n",
       "<p>5 rows × 173 columns</p>\n",
       "</div>"
      ],
      "text/plain": [
       "   Id  MSSubClass  MSZoning  LotFrontage   LotArea  Street  LotShape  \\\n",
       "0   1    0.073375         3     0.001533 -0.207142       1         3   \n",
       "1   2   -0.872563         3     0.646396 -0.091886       1         3   \n",
       "2   3    0.073375         3     0.141663  0.073480       1         0   \n",
       "3   4    0.309859         3    -0.247054 -0.096897       1         0   \n",
       "4   5    0.073375         3     0.797923  0.375148       1         0   \n",
       "\n",
       "   LandContour  Utilities  LotConfig  ...  SaleType_COD  SaleType_CWD  \\\n",
       "0            3          0          4  ...             0             0   \n",
       "1            3          0          2  ...             0             0   \n",
       "2            3          0          4  ...             0             0   \n",
       "3            3          0          0  ...             0             0   \n",
       "4            3          0          2  ...             0             0   \n",
       "\n",
       "   SaleType_Con  SaleType_ConLD  SaleType_ConLI  SaleType_ConLw  SaleType_New  \\\n",
       "0             0               0               0               0             0   \n",
       "1             0               0               0               0             0   \n",
       "2             0               0               0               0             0   \n",
       "3             0               0               0               0             0   \n",
       "4             0               0               0               0             0   \n",
       "\n",
       "   SaleType_Oth  SaleType_WD  SalePrice  \n",
       "0             0            1     208500  \n",
       "1             0            1     181500  \n",
       "2             0            1     223500  \n",
       "3             0            1     140000  \n",
       "4             0            1     250000  \n",
       "\n",
       "[5 rows x 173 columns]"
      ]
     },
     "execution_count": 59,
     "metadata": {},
     "output_type": "execute_result"
    }
   ],
   "source": [
    "dff = df_encoded\n",
    "dff.head(5)"
   ]
  },
  {
   "cell_type": "markdown",
   "id": "b917c262",
   "metadata": {},
   "source": [
    "## Lot Area as a regressor"
   ]
  },
  {
   "cell_type": "code",
   "execution_count": 61,
   "id": "4734702b",
   "metadata": {},
   "outputs": [],
   "source": [
    "X = dff.iloc[:, 4].values\n",
    "y = dff.iloc[:, -1].values"
   ]
  },
  {
   "cell_type": "code",
   "execution_count": 62,
   "id": "6560d0e2",
   "metadata": {},
   "outputs": [
    {
     "data": {
      "text/plain": [
       "array([-0.20714171, -0.09188637,  0.07347998, ..., -0.14781027,\n",
       "       -0.08016039, -0.05811155])"
      ]
     },
     "execution_count": 62,
     "metadata": {},
     "output_type": "execute_result"
    }
   ],
   "source": [
    "X"
   ]
  },
  {
   "cell_type": "code",
   "execution_count": 63,
   "id": "799f19f3",
   "metadata": {},
   "outputs": [
    {
     "data": {
      "text/plain": [
       "array([208500, 181500, 223500, ..., 266500, 142125, 147500], dtype=int64)"
      ]
     },
     "execution_count": 63,
     "metadata": {},
     "output_type": "execute_result"
    }
   ],
   "source": [
    "y"
   ]
  },
  {
   "cell_type": "code",
   "execution_count": 64,
   "id": "814fe257",
   "metadata": {},
   "outputs": [
    {
     "data": {
      "text/plain": [
       "array([[208500],\n",
       "       [181500],\n",
       "       [223500],\n",
       "       ...,\n",
       "       [266500],\n",
       "       [142125],\n",
       "       [147500]], dtype=int64)"
      ]
     },
     "execution_count": 64,
     "metadata": {},
     "output_type": "execute_result"
    }
   ],
   "source": [
    "X.reshape(-1, 1)\n",
    "y.reshape(-1, 1)"
   ]
  },
  {
   "cell_type": "code",
   "execution_count": 65,
   "id": "d252df4d",
   "metadata": {},
   "outputs": [],
   "source": [
    "# Train test split\n",
    "\n",
    "from sklearn.model_selection import train_test_split\n",
    "\n",
    "X_trainm, X_testm, y_trainm, y_testm = train_test_split(X, y, test_size = 1/3, random_state = 0)"
   ]
  },
  {
   "cell_type": "code",
   "execution_count": 66,
   "id": "bb534e47",
   "metadata": {},
   "outputs": [
    {
     "name": "stdout",
     "output_type": "stream",
     "text": [
      "Estimated coefficients:\n",
      "b_0 = 181075.90182379176            \n",
      "b_1 = 19211.328575107585\n"
     ]
    },
    {
     "data": {
      "image/png": "[encoded data removed]",
      "text/plain": [
       "<Figure size 432x288 with 1 Axes>"
      ]
     },
     "metadata": {
      "needs_background": "light"
     },
     "output_type": "display_data"
    }
   ],
   "source": [
    "import numpy as np\n",
    "import matplotlib.pyplot as plt\n",
    "\n",
    "  \n",
    "def estimate_coef(x, y):\n",
    "    # number of observations/points\n",
    "    n = np.size(x)\n",
    "  \n",
    "    # mean of x and y vector\n",
    "    m_x = np.mean(x)\n",
    "    m_y = np.mean(y)\n",
    "  \n",
    "    # calculating cross-deviation and deviation about x\n",
    "    SS_xy = np.sum(y*x) - n*m_y*m_x\n",
    "    SS_xx = np.sum(x*x) - n*m_x*m_x\n",
    "  \n",
    "    # calculating regression coefficients\n",
    "    b_1 = SS_xy / SS_xx\n",
    "    b_0 = m_y - b_1*m_x\n",
    "  \n",
    "    return (b_0, b_1)\n",
    "  \n",
    "def plot_regression_line(x, y, b):\n",
    "    # plotting the actual points as scatter plot\n",
    "    plt.scatter(x, y, color = \"m\",\n",
    "               marker = \"o\", s = 30)\n",
    "  \n",
    "    # predicted response vector\n",
    "    y_pred = b[0] + b[1]*x\n",
    "  \n",
    "    # plotting the regression line\n",
    "    plt.plot(x, y_pred, color = \"g\")\n",
    "  \n",
    "    # putting labels\n",
    "    plt.xlabel('x')\n",
    "    plt.ylabel('y')\n",
    "  \n",
    "    # function to show plot\n",
    "    plt.show()\n",
    "  \n",
    "def main(a,b):\n",
    "    # observations / data\n",
    "    x = a\n",
    "    y = b\n",
    "  \n",
    "    # estimating coefficients\n",
    "    b = estimate_coef(x, y)\n",
    "    print(\"Estimated coefficients:\\nb_0 = {}  \\\n",
    "          \\nb_1 = {}\".format(b[0], b[1]))\n",
    "  \n",
    "    # plotting regression line\n",
    "    plot_regression_line(x, y, b)\n",
    "  \n",
    "if __name__ == \"__main__\":\n",
    "    main(X_trainm,y_trainm)"
   ]
  },
  {
   "cell_type": "markdown",
   "id": "0d07d815",
   "metadata": {},
   "source": [
    "## Multiple Regression"
   ]
  },
  {
   "cell_type": "code",
   "execution_count": 67,
   "id": "7f14626c",
   "metadata": {},
   "outputs": [],
   "source": [
    "X = dff.iloc[:, 1:-1].values\n",
    "y = dff.iloc[:, -1].values"
   ]
  },
  {
   "cell_type": "code",
   "execution_count": 68,
   "id": "191f084b",
   "metadata": {},
   "outputs": [],
   "source": [
    "from sklearn.model_selection import train_test_split\n",
    "X_train, X_test, y_train, y_test = train_test_split(X, y, test_size = 1/3, random_state = 0)"
   ]
  },
  {
   "cell_type": "code",
   "execution_count": 69,
   "id": "c62d9cc7",
   "metadata": {},
   "outputs": [
    {
     "data": {
      "text/html": [
       "<style>#sk-container-id-1 {color: black;background-color: white;}#sk-container-id-1 pre{padding: 0;}#sk-container-id-1 div.sk-toggleable {background-color: white;}#sk-container-id-1 label.sk-toggleable__label {cursor: pointer;display: block;width: 100%;margin-bottom: 0;padding: 0.3em;box-sizing: border-box;text-align: center;}#sk-container-id-1 label.sk-toggleable__label-arrow:before {content: \"▸\";float: left;margin-right: 0.25em;color: #696969;}#sk-container-id-1 label.sk-toggleable__label-arrow:hover:before {color: black;}#sk-container-id-1 div.sk-estimator:hover label.sk-toggleable__label-arrow:before {color: black;}#sk-container-id-1 div.sk-toggleable__content {max-height: 0;max-width: 0;overflow: hidden;text-align: left;background-color: #f0f8ff;}#sk-container-id-1 div.sk-toggleable__content pre {margin: 0.2em;color: black;border-radius: 0.25em;background-color: #f0f8ff;}#sk-container-id-1 input.sk-toggleable__control:checked~div.sk-toggleable__content {max-height: 200px;max-width: 100%;overflow: auto;}#sk-container-id-1 input.sk-toggleable__control:checked~label.sk-toggleable__label-arrow:before {content: \"▾\";}#sk-container-id-1 div.sk-estimator input.sk-toggleable__control:checked~label.sk-toggleable__label {background-color: #d4ebff;}#sk-container-id-1 div.sk-label input.sk-toggleable__control:checked~label.sk-toggleable__label {background-color: #d4ebff;}#sk-container-id-1 input.sk-hidden--visually {border: 0;clip: rect(1px 1px 1px 1px);clip: rect(1px, 1px, 1px, 1px);height: 1px;margin: -1px;overflow: hidden;padding: 0;position: absolute;width: 1px;}#sk-container-id-1 div.sk-estimator {font-family: monospace;background-color: #f0f8ff;border: 1px dotted black;border-radius: 0.25em;box-sizing: border-box;margin-bottom: 0.5em;}#sk-container-id-1 div.sk-estimator:hover {background-color: #d4ebff;}#sk-container-id-1 div.sk-parallel-item::after {content: \"\";width: 100%;border-bottom: 1px solid gray;flex-grow: 1;}#sk-container-id-1 div.sk-label:hover label.sk-toggleable__label {background-color: #d4ebff;}#sk-container-id-1 div.sk-serial::before {content: \"\";position: absolute;border-left: 1px solid gray;box-sizing: border-box;top: 0;bottom: 0;left: 50%;z-index: 0;}#sk-container-id-1 div.sk-serial {display: flex;flex-direction: column;align-items: center;background-color: white;padding-right: 0.2em;padding-left: 0.2em;position: relative;}#sk-container-id-1 div.sk-item {position: relative;z-index: 1;}#sk-container-id-1 div.sk-parallel {display: flex;align-items: stretch;justify-content: center;background-color: white;position: relative;}#sk-container-id-1 div.sk-item::before, #sk-container-id-1 div.sk-parallel-item::before {content: \"\";position: absolute;border-left: 1px solid gray;box-sizing: border-box;top: 0;bottom: 0;left: 50%;z-index: -1;}#sk-container-id-1 div.sk-parallel-item {display: flex;flex-direction: column;z-index: 1;position: relative;background-color: white;}#sk-container-id-1 div.sk-parallel-item:first-child::after {align-self: flex-end;width: 50%;}#sk-container-id-1 div.sk-parallel-item:last-child::after {align-self: flex-start;width: 50%;}#sk-container-id-1 div.sk-parallel-item:only-child::after {width: 0;}#sk-container-id-1 div.sk-dashed-wrapped {border: 1px dashed gray;margin: 0 0.4em 0.5em 0.4em;box-sizing: border-box;padding-bottom: 0.4em;background-color: white;}#sk-container-id-1 div.sk-label label {font-family: monospace;font-weight: bold;display: inline-block;line-height: 1.2em;}#sk-container-id-1 div.sk-label-container {text-align: center;}#sk-container-id-1 div.sk-container {/* jupyter's `normalize.less` sets `[hidden] { display: none; }` but bootstrap.min.css set `[hidden] { display: none !important; }` so we also need the `!important` here to be able to override the default hidden behavior on the sphinx rendered scikit-learn.org. See: https://github.com/scikit-learn/scikit-learn/issues/21755 */display: inline-block !important;position: relative;}#sk-container-id-1 div.sk-text-repr-fallback {display: none;}</style><div id=\"sk-container-id-1\" class=\"sk-top-container\"><div class=\"sk-text-repr-fallback\"><pre>LinearRegression()</pre><b>In a Jupyter environment, please rerun this cell to show the HTML representation or trust the notebook. <br />On GitHub, the HTML representation is unable to render, please try loading this page with nbviewer.org.</b></div><div class=\"sk-container\" hidden><div class=\"sk-item\"><div class=\"sk-estimator sk-toggleable\"><input class=\"sk-toggleable__control sk-hidden--visually\" id=\"sk-estimator-id-1\" type=\"checkbox\" checked><label for=\"sk-estimator-id-1\" class=\"sk-toggleable__label sk-toggleable__label-arrow\">LinearRegression</label><div class=\"sk-toggleable__content\"><pre>LinearRegression()</pre></div></div></div></div></div>"
      ],
      "text/plain": [
       "LinearRegression()"
      ]
     },
     "execution_count": 69,
     "metadata": {},
     "output_type": "execute_result"
    }
   ],
   "source": [
    "from sklearn.linear_model import LinearRegression\n",
    "regressor = LinearRegression()\n",
    "regressor.fit(X_train,y_train)"
   ]
  },
  {
   "cell_type": "code",
   "execution_count": 70,
   "id": "98faed7b",
   "metadata": {},
   "outputs": [
    {
     "data": {
      "text/plain": [
       "array([ 2.57484000e+05,  1.44720000e+05,  1.17056000e+05,  2.20664000e+05,\n",
       "        1.00044000e+05,  8.26620000e+04,  2.49328000e+05,  1.50328000e+05,\n",
       "        5.50332000e+05,  1.48060000e+05,  2.08132000e+05,  1.43819707e+14,\n",
       "        2.30312000e+05,  1.14348000e+05,  1.09300000e+05,  1.47790000e+05,\n",
       "        2.64588000e+05,  1.13884000e+05,  1.38216000e+05,  1.78732000e+05,\n",
       "        1.38644000e+05,  1.56832000e+05,  6.97760000e+04,  1.47156000e+05,\n",
       "        1.93136000e+05,  1.74496000e+05,  1.67724000e+05,  7.06120000e+04,\n",
       "        3.30764000e+05,  1.07588000e+05,  1.40932000e+05,  2.10052000e+05,\n",
       "        1.40196000e+05,  3.05568000e+05,  3.55564000e+05,  1.90604000e+05,\n",
       "        2.94484000e+05,  1.07268000e+05,  2.33116000e+05,  3.65236000e+05,\n",
       "        2.19692000e+05,  1.01232000e+05,  2.01098000e+05,  3.13452000e+05,\n",
       "        3.50344000e+05,  1.32300000e+05,  1.43476009e+14,  1.21788000e+05,\n",
       "        1.79620000e+05,  9.29880000e+04,  3.79476000e+05,  1.48620000e+05,\n",
       "        1.67972000e+05,  7.04160000e+04,  2.34268000e+05,  8.61680000e+04,\n",
       "        1.07884000e+05,  2.21912000e+05,  1.27316000e+05,  8.71040000e+04,\n",
       "        1.25328000e+05,  1.27992000e+05,  1.23738000e+05,  1.58908000e+05,\n",
       "        2.13996000e+05,  1.69712000e+05,  1.32204000e+05,  2.44820000e+05,\n",
       "        1.27844000e+05,  2.01788000e+05,  1.82420000e+05,  1.15428000e+05,\n",
       "        4.27200000e+04,  2.94748000e+05,  6.81420000e+04,  2.61364000e+05,\n",
       "        1.23632000e+05,  7.90320000e+04,  3.01306000e+05,  2.39154000e+05,\n",
       "        1.29708000e+05,  1.30360000e+05,  1.28444000e+05,  1.40308000e+05,\n",
       "        2.57756000e+05,  1.92102000e+05,  7.79160000e+04,  2.20512000e+05,\n",
       "        1.64992000e+05,  1.46712000e+05,  1.83964000e+05,  1.81668000e+05,\n",
       "        1.69156000e+05,  2.29932000e+05,  2.18154000e+05,  1.68968000e+05,\n",
       "        2.15956000e+05,  1.71444000e+05,  1.07840000e+05,  1.51624000e+05,\n",
       "        2.50332000e+05,  2.29988000e+05,  1.13834000e+05,  1.57396000e+05,\n",
       "        1.06108000e+05,  3.03676000e+05,  1.69480000e+05,  8.42080000e+04,\n",
       "        1.91252000e+05,  1.22468000e+05,  1.23548000e+05,  1.02764000e+05,\n",
       "        1.80324000e+05,  1.04320000e+05,  1.77588000e+05,  1.75300000e+05,\n",
       "        3.80924000e+05,  1.11444000e+05,  2.26118000e+05,  2.47148000e+05,\n",
       "        1.56994000e+05,  1.52300000e+05,  1.28784000e+05,  1.71928000e+05,\n",
       "        2.24996000e+05,  2.90152000e+05,  3.76412000e+05,  2.12622000e+05,\n",
       "        2.00712000e+05,  1.64060000e+05,  1.68158000e+05,  1.91952000e+05,\n",
       "        1.30010000e+05,  1.96732000e+05,  8.19200000e+04,  2.12436000e+05,\n",
       "        1.39608000e+05,  1.67464000e+05,  9.60400000e+04,  1.84860000e+05,\n",
       "        1.64084000e+05,  1.12228000e+05,  2.64332000e+05,  1.53252000e+05,\n",
       "        1.37734000e+05,  1.66820000e+05,  2.07692000e+05,  1.44752000e+05,\n",
       "        3.01732000e+05,  2.37104000e+05,  1.67180000e+05,  3.53388000e+05,\n",
       "        2.74940000e+05,  1.68594000e+05,  1.65340000e+05,  3.00852000e+05,\n",
       "        1.51592000e+05,  2.04196000e+05,  1.27994000e+05,  1.64612000e+05,\n",
       "        1.11304000e+05,  1.31194000e+05,  2.07428000e+05,  1.18364000e+05,\n",
       "        2.24668000e+05,  1.23998000e+05,  1.61620000e+05,  2.86936000e+05,\n",
       "        2.24876000e+05,  1.58836000e+05,  1.63720000e+05,  1.65460000e+05,\n",
       "        2.21214000e+05,  1.71268000e+05,  9.41960000e+04,  5.44875242e+14,\n",
       "        1.28986000e+05,  2.52884000e+05,  1.08948000e+05,  1.34868000e+05,\n",
       "        2.75664000e+05,  1.84100000e+05,  1.35820000e+05,  2.97900000e+05,\n",
       "        1.00036000e+05,  5.44875242e+14,  1.00540000e+05,  2.28686000e+05,\n",
       "        2.32792000e+05,  1.31680000e+05,  1.34552000e+05,  1.84084000e+05,\n",
       "        2.19220000e+05,  1.36200000e+05,  1.23920000e+05,  1.39896000e+05,\n",
       "        6.38760000e+04,  1.51284000e+05,  1.66356000e+05,  1.04988000e+05,\n",
       "        1.21704000e+05,  2.17098000e+05,  1.07348000e+05,  1.15948000e+05,\n",
       "        1.19544000e+05,  2.01212000e+05,  1.64922000e+05,  2.96132000e+05,\n",
       "        2.43084000e+05,  5.84120000e+04,  1.34100000e+05,  2.75884000e+05,\n",
       "        5.49880000e+04,  1.21348000e+05,  4.36460000e+05,  1.36498312e+15,\n",
       "        1.74288000e+05,  2.73580000e+05,  2.34252000e+05,  8.52200000e+04,\n",
       "        1.96316000e+05,  1.40252000e+05,  1.36940000e+05,  1.20336000e+05,\n",
       "        1.92444000e+05,  2.77880000e+05,  2.23656000e+05,  2.11180000e+05,\n",
       "        1.20766000e+05,  1.48924000e+05,  5.60960000e+04,  1.40204000e+05,\n",
       "        9.62320000e+04,  1.45024000e+05,  2.80996000e+05,  1.36392000e+05,\n",
       "        1.41492000e+05,  1.13480000e+05,  8.10600000e+04,  1.79128000e+05,\n",
       "        1.26716000e+05,  1.82124000e+05,  2.07032000e+05,  2.12256000e+05,\n",
       "        1.97714000e+05,  1.79104000e+05,  2.22394000e+05,  1.89604000e+05,\n",
       "        1.61776000e+05,  2.02260000e+05,  1.81692000e+05,  2.64646000e+05,\n",
       "        9.76200000e+04,  4.29006000e+05,  2.52856000e+05,  2.23756000e+05,\n",
       "        1.12944000e+05,  2.25908000e+05,  4.16836000e+05,  1.59797983e+15,\n",
       "        1.86680000e+05,  9.52760000e+04,  1.41044000e+05,  6.93640000e+04,\n",
       "       -1.09160000e+04,  3.48452000e+05,  3.38204000e+05,  1.43476009e+14,\n",
       "        2.43112000e+05,  2.39196000e+05,  1.33512000e+05,  2.50920000e+05,\n",
       "        1.40700000e+05,  1.67060000e+05,  1.35034000e+05,  2.38724000e+05,\n",
       "        2.18852000e+05,  2.64768000e+05,  2.08652000e+05,  1.14224000e+05,\n",
       "        1.20560000e+05,  3.48332000e+05,  1.75516000e+05,  1.39368000e+05,\n",
       "        2.11592000e+05,  1.64316000e+05,  1.25636000e+05,  2.93340000e+05,\n",
       "        4.36972000e+05,  2.73244000e+05,  1.23628000e+05,  7.42200000e+04,\n",
       "        3.51612000e+05,  8.68520000e+04,  1.49600000e+05,  2.62308000e+05,\n",
       "        2.16404000e+05,  1.86454000e+05,  1.37792000e+05,  1.76188000e+05,\n",
       "        9.31640000e+04,  1.37720000e+05,  2.04148000e+05,  2.03928000e+05,\n",
       "        1.39864000e+05,  1.33988000e+05,  1.39100000e+05,  2.05528000e+05,\n",
       "        2.11116000e+05,  1.71976000e+05,  1.14928000e+05,  1.85764000e+05,\n",
       "        1.14662000e+05,  1.27308000e+05,  1.27584000e+05,  1.36560000e+05,\n",
       "        2.89996000e+05,  1.30496000e+05,  1.83796000e+05,  1.43372000e+05,\n",
       "        1.05484000e+05,  2.71900000e+05,  1.01658000e+05,  2.20252000e+05,\n",
       "        1.33920000e+05,  2.37080000e+05,  1.15264000e+05,  3.36412000e+05,\n",
       "        2.28748000e+05,  1.59052000e+05,  1.08196000e+05,  2.22584000e+05,\n",
       "        2.03236000e+05,  2.06522000e+05,  1.62776000e+05,  1.41914000e+05,\n",
       "        1.27792000e+05,  2.00484000e+05,  1.45148000e+05,  1.21966000e+05,\n",
       "        3.39036000e+05,  1.68676000e+05,  1.83856000e+05,  2.18004000e+05,\n",
       "        1.92624000e+05,  1.21936000e+05,  1.14984000e+05,  7.97400000e+04,\n",
       "        9.08000000e+04,  1.32784000e+05,  2.17876000e+05,  3.31158000e+05,\n",
       "        8.56880000e+04,  9.24480000e+04,  1.47694000e+05,  3.98716000e+05,\n",
       "        3.09988000e+05,  1.55624000e+05,  2.60604000e+05,  3.21064000e+05,\n",
       "        1.43801936e+14,  2.06516000e+05,  2.28716000e+05,  2.38116000e+05,\n",
       "        9.65200000e+04,  1.45420000e+05,  1.75676000e+05,  1.42376000e+05,\n",
       "        1.90612000e+05,  1.86962000e+05,  3.66380000e+05,  7.16520000e+04,\n",
       "        1.23588000e+05,  1.29064000e+05,  1.33108000e+05,  4.31160000e+04,\n",
       "        2.05152000e+05,  2.88100000e+05,  1.23624000e+05,  2.60844000e+05,\n",
       "        1.45764000e+05,  9.04640000e+04,  1.36320000e+05,  1.41344000e+05,\n",
       "        1.33868000e+05,  7.04000000e+04,  1.37744000e+05,  2.11732000e+05,\n",
       "        2.38212000e+05,  3.61708000e+05,  7.41320000e+04,  1.05188000e+05,\n",
       "        2.41996000e+05,  7.29080000e+04,  1.40658000e+05,  1.56308000e+05,\n",
       "        2.20784000e+05,  1.82284000e+05,  1.65842000e+05,  1.72436000e+05,\n",
       "        3.57972000e+05,  2.16332000e+05,  1.57716000e+05,  9.42200000e+04,\n",
       "        1.67146000e+05,  3.06512000e+05,  1.24916000e+05,  3.33084000e+05,\n",
       "        2.45352000e+05,  2.30164000e+05,  1.13178000e+05,  1.14916000e+05,\n",
       "        2.22352000e+05,  1.35214000e+05,  9.76920000e+04,  9.52000000e+04,\n",
       "        2.12412000e+05,  1.20652000e+05,  2.91878000e+05,  1.06444000e+05,\n",
       "        2.58710000e+05,  3.58178000e+05,  1.07176000e+05,  1.61404000e+05,\n",
       "        1.37688000e+05,  1.09088000e+05,  2.87516000e+05,  1.08800000e+05,\n",
       "        2.00472000e+05,  1.42396000e+05,  1.33890000e+05,  2.35468000e+05,\n",
       "        1.30688000e+05,  1.59793983e+15,  1.58964000e+05,  3.51452000e+05,\n",
       "        2.13604000e+05,  4.47804000e+05,  2.38268000e+05,  1.79760000e+05,\n",
       "        1.29720000e+05,  1.14612000e+05,  3.67320000e+04,  1.55060000e+05,\n",
       "        1.51784000e+05,  1.73790000e+05,  1.19100000e+05, -2.24974415e+15,\n",
       "        1.35700000e+05,  3.08588000e+05,  1.55580000e+05,  2.21876000e+05,\n",
       "        1.50260000e+05,  1.94248000e+05,  1.46948000e+05,  1.87542000e+05,\n",
       "        9.12720000e+04,  1.02364000e+05,  2.46028000e+05,  1.57852000e+05,\n",
       "        1.87408000e+05,  1.49516000e+05,  1.74586000e+05,  8.69560000e+04,\n",
       "        2.28064000e+05,  1.31996000e+05,  2.18136000e+05,  1.15164000e+05,\n",
       "        1.94910000e+05,  2.49072000e+05,  1.90048000e+05,  1.19116000e+05,\n",
       "        1.08120000e+05,  2.24040000e+05,  1.45676000e+05,  7.85720000e+04,\n",
       "        1.48086000e+05,  2.05300000e+05,  2.49068000e+05,  1.95356000e+05,\n",
       "        1.10968000e+05,  1.71740000e+05,  2.40724000e+05,  1.38350000e+05,\n",
       "        1.36824000e+05,  2.19336000e+05,  2.46524000e+05])"
      ]
     },
     "execution_count": 70,
     "metadata": {},
     "output_type": "execute_result"
    }
   ],
   "source": [
    "y_pred = regressor.predict(X_test)\n",
    "y_pred"
   ]
  },
  {
   "cell_type": "code",
   "execution_count": 71,
   "id": "33ccb5ed",
   "metadata": {},
   "outputs": [
    {
     "data": {
      "text/plain": [
       "array([200624, 133000, 110000, 192000,  88000,  85000, 282922, 141000,\n",
       "       745000, 148800, 208900, 136905, 225000, 123000, 119200, 145000,\n",
       "       190000, 123600, 149350, 155000, 166000, 144500, 110000, 174000,\n",
       "       185000, 168000, 177500,  84500, 320000, 118500, 110000, 213000,\n",
       "       156000, 250000, 372500, 175000, 277500, 112500, 263000, 325000,\n",
       "       243000, 130000, 164990, 280000, 403000, 119000, 125000, 128200,\n",
       "       172500,  84900, 412500, 156000, 167900, 100000, 275000, 123000,\n",
       "       132000, 239900, 139000, 115000, 137500, 135000, 134450, 180500,\n",
       "       193500, 156500, 132000, 224500, 139000, 225000, 188500, 118000,\n",
       "        82000, 392000, 112000, 248900, 134500,  79500, 320000, 158000,\n",
       "       140000, 136500, 107500, 145000, 200500, 185000, 105000, 202665,\n",
       "       186000, 136000, 200500, 190000, 187500, 200000, 172500, 157000,\n",
       "       213000, 185000, 124500, 162900, 260000, 198500, 120000, 159500,\n",
       "       105900, 260000, 143000, 106500, 178900, 127000,  90350, 118500,\n",
       "       190000, 119900, 183900, 155000, 386250, 133000, 193500, 270000,\n",
       "       141000, 146000, 128500, 176000, 214000, 222000, 415298, 187750,\n",
       "       199900, 180000, 206300, 194000, 142953, 182900, 116050, 213250,\n",
       "       139500, 179000, 107900, 175900, 158500, 145000, 217000, 150500,\n",
       "       108959, 165600, 201000, 145500, 319900, 215000, 180500, 367294,\n",
       "       239000, 145900, 161000, 250000,  89471, 230000, 147000, 163900,\n",
       "        97000, 142000, 197000, 129000, 232000, 115000, 175000, 265000,\n",
       "       207000, 181000, 176000, 171000, 196000, 176000, 113000, 139000,\n",
       "       135000, 240000, 112000, 134000, 316600, 170000, 116000, 306000,\n",
       "        82500, 175000, 106000, 194000, 194201, 155900, 138000, 177000,\n",
       "       214000, 148000, 127000, 142500,  80000, 145000, 171000, 122500,\n",
       "       139000, 189000, 120500, 124000, 160000, 200000, 160000, 313000,\n",
       "       275000,  67000, 159000, 251000,  92900, 109500, 385000, 129000,\n",
       "        82500, 301000, 249700,  81000, 187500, 110000, 117000, 128500,\n",
       "       213490, 284000, 230500, 190000, 135000, 152000,  87500, 155000,\n",
       "       115000, 144000, 248000, 132500, 136000, 117000,  82000, 157500,\n",
       "       110000, 181000, 192500, 223500, 181500, 170000, 187500, 185900,\n",
       "       160000, 192000, 181900, 266000,  99900, 438780, 229456, 216837,\n",
       "       110500, 175900, 538000, 160000, 172500, 108000, 131500, 106250,\n",
       "       385000, 370878, 345000,  68500, 250000, 245350, 125000, 234000,\n",
       "       145000, 181000, 104000, 233000, 164000, 219500, 195000, 108000,\n",
       "       149900, 315000, 177500, 140000, 193879, 137900, 118000, 324000,\n",
       "       555000, 136000,  82500, 101000, 314813, 109500, 163500, 271000,\n",
       "       205000, 185000, 160000, 155000,  91000, 131000, 165400, 194700,\n",
       "       155000, 140000, 147000, 194000, 179540, 173000, 109500, 173733,\n",
       "       129900, 119000, 125500, 149300, 305000, 102000, 178740, 129500,\n",
       "        79900, 278000, 118400, 197000, 140000, 226000, 132500, 315000,\n",
       "       224000, 132500, 119500, 215000, 210000, 200141, 185000, 149900,\n",
       "       129000, 184100, 135000, 128000, 374000, 164000, 157000, 215000,\n",
       "       165000, 144000, 125500,  98300,  91300, 135960, 226700, 333168,\n",
       "       114500,  97000, 181000, 465000, 290000, 175000, 235000, 277000,\n",
       "       325000, 178000, 235000, 239000,  85000, 107500, 160000, 145000,\n",
       "       192140, 181000, 380000,  66500, 124500, 124000, 144000,  52500,\n",
       "       217000, 275000, 127000, 262500, 162000, 103000, 137500, 127500,\n",
       "       127000,  91000, 145000, 186500, 221500, 253293, 108480, 127000,\n",
       "       237500,  86000, 141000, 176000, 178400, 173900, 157000, 193000,\n",
       "       335000, 201000, 146500,  86000, 148000, 280000, 112000, 303477,\n",
       "       250000, 244600, 126000, 130500, 241000, 118500, 115000, 129900,\n",
       "       202500, 118000, 335000, 125000, 255900, 342643, 109008, 148500,\n",
       "       132500, 110000, 244000, 115000, 194500, 129500, 167500, 227875,\n",
       "       169900, 241500, 127500, 350000, 227000, 611657, 219500, 173000,\n",
       "       116500, 105000,  60000, 149500, 119750, 158000, 148000, 100000,\n",
       "       214500, 359100, 139000, 204000, 147000, 175000, 137450, 169990,\n",
       "        88000, 126000, 255000, 162000, 185000, 155000, 153000,  97000,\n",
       "       159500, 135000, 214000, 113000, 190000, 240000, 175000, 135000,\n",
       "       115000, 244000, 132000,  83500, 143500, 212000, 232000, 208900,\n",
       "       124000, 167000, 259000, 144000, 137000, 230000, 239799],\n",
       "      dtype=int64)"
      ]
     },
     "execution_count": 71,
     "metadata": {},
     "output_type": "execute_result"
    }
   ],
   "source": [
    "y_test"
   ]
  },
  {
   "cell_type": "code",
   "execution_count": 72,
   "id": "ddebac20",
   "metadata": {},
   "outputs": [
    {
     "name": "stdout",
     "output_type": "stream",
     "text": [
      "Mean Absoulute error is : 17402404691591.656\n",
      "Mean Squared error is: 2.6094026274047534e+28\n",
      "Root Mean Square error is: 161536454938343.66\n",
      "R2 score is: -4.05280167584349e+18\n"
     ]
    }
   ],
   "source": [
    "Emetrics(y_test,y_pred)"
   ]
  },
  {
   "cell_type": "markdown",
   "id": "110f7130",
   "metadata": {},
   "source": [
    "## Polynomial Regression"
   ]
  },
  {
   "cell_type": "code",
   "execution_count": 73,
   "id": "75b96659",
   "metadata": {},
   "outputs": [
    {
     "name": "stdout",
     "output_type": "stream",
     "text": [
      "RMSE: 23227.55280039646\n",
      "R^2 score: 0.9144542104442012\n"
     ]
    }
   ],
   "source": [
    "import numpy as np\n",
    "from sklearn.linear_model import LinearRegression\n",
    "from sklearn.preprocessing import PolynomialFeatures\n",
    "\n",
    "# Load your dataset and split into X (independent variables) and y (dependent variable)\n",
    "X = dff.iloc[:, 1:-1].values\n",
    "y = dff.iloc[:, -1].values\n",
    "\n",
    "# Fit polynomial regression model\n",
    "poly = PolynomialFeatures(degree=1) # set degree of polynomial\n",
    "X_poly = poly.fit_transform(X) # create polynomial features\n",
    "poly_reg = LinearRegression() # create linear regression model\n",
    "poly_reg.fit(X_poly, y) # fit model on polynomial features\n",
    "\n",
    "# Make predictions\n",
    "y_pred = poly_reg.predict(X_poly)\n",
    "\n",
    "# Evaluate model performance\n",
    "from sklearn.metrics import mean_squared_error, r2_score\n",
    "rmse = np.sqrt(mean_squared_error(y, y_pred))\n",
    "r2 = r2_score(y, y_pred)\n",
    "print(f\"RMSE: {rmse}\")\n",
    "print(f\"R^2 score: {r2}\")"
   ]
  },
  {
   "cell_type": "markdown",
   "id": "c10df313",
   "metadata": {},
   "source": [
    "## Decison Trees"
   ]
  },
  {
   "cell_type": "code",
   "execution_count": 75,
   "id": "c505f734",
   "metadata": {},
   "outputs": [
    {
     "name": "stdout",
     "output_type": "stream",
     "text": [
      "Mean Absoulute error is : 27511.28283135003\n",
      "Mean Squared error is: 1551633394.6275873\n",
      "Root Mean Square error is: 39390.77804039401\n",
      "R2 score is: 0.7977095950399475\n"
     ]
    }
   ],
   "source": [
    "import numpy as np\n",
    "import pandas as pd\n",
    "from sklearn.tree import DecisionTreeRegressor\n",
    "from sklearn.model_selection import train_test_split\n",
    "from sklearn.metrics import mean_squared_error, r2_score\n",
    "\n",
    "# Load your dataset and split into X (independent variables) and y (dependent variable)\n",
    "X = dff.iloc[:, 1:-1].values\n",
    "y = dff.iloc[:, -1].values\n",
    "\n",
    "# Split the dataset into training and testing data\n",
    "X_train, X_test, y_train, y_test = train_test_split(X, y, test_size=0.2, random_state=42)\n",
    "\n",
    "# Create decision tree regression model\n",
    "model = DecisionTreeRegressor(max_depth=5) # Set max_depth to avoid overfitting\n",
    "model.fit(X_train, y_train)\n",
    "\n",
    "# Make predictions on test data\n",
    "y_pred = model.predict(X_test)\n",
    "\n",
    "Emetrics(y_test,y_pred)"
   ]
  },
  {
   "cell_type": "markdown",
   "id": "b8fc1fa0",
   "metadata": {},
   "source": [
    "## Random Forests"
   ]
  },
  {
   "cell_type": "code",
   "execution_count": 77,
   "id": "c7e96d95",
   "metadata": {},
   "outputs": [
    {
     "name": "stdout",
     "output_type": "stream",
     "text": [
      "Mean Absoulute error is : 17387.970188356165\n",
      "Mean Squared error is: 904889858.8495914\n",
      "Root Mean Square error is: 30081.387249420386\n",
      "R2 score is: 0.8547469175395225\n"
     ]
    }
   ],
   "source": [
    "import pandas as pd\n",
    "import numpy as np\n",
    "from sklearn.ensemble import RandomForestRegressor\n",
    "from sklearn.model_selection import train_test_split\n",
    "from sklearn.metrics import r2_score, mean_squared_error\n",
    "\n",
    "# Load the dataset\n",
    "\n",
    "# Splitting the data into training and testing sets\n",
    "X = dff.iloc[:, 1:-1].values\n",
    "y = dff.iloc[:, -1].values\n",
    "X_train, X_test, y_train, y_test = train_test_split(X, y, test_size=0.4, random_state=0)\n",
    "\n",
    "# Training the model\n",
    "rf_model = RandomForestRegressor(n_estimators=100, random_state=0)\n",
    "rf_model.fit(X_train, y_train)\n",
    "\n",
    "# Predicting the target values\n",
    "y_pred = rf_model.predict(X_test)\n",
    "\n",
    "Emetrics(y_test,y_pred)"
   ]
  },
  {
   "cell_type": "markdown",
   "id": "1bc6b7fa",
   "metadata": {},
   "source": [
    "## Feature Selection"
   ]
  },
  {
   "cell_type": "code",
   "execution_count": 79,
   "id": "5f230e98",
   "metadata": {},
   "outputs": [],
   "source": [
    "\n",
    "X = dff.iloc[:, 1:-1].values\n",
    "y = dff.iloc[:, -1].values"
   ]
  },
  {
   "cell_type": "code",
   "execution_count": 80,
   "id": "86924427",
   "metadata": {},
   "outputs": [],
   "source": [
    "from sklearn.model_selection import train_test_split\n",
    "\n",
    "X_train, X_test, y_train, y_test = train_test_split(X, y, test_size=0.33, random_state=42)"
   ]
  },
  {
   "cell_type": "code",
   "execution_count": 81,
   "id": "569ed276",
   "metadata": {},
   "outputs": [],
   "source": [
    "from sklearn.datasets import make_regression\n",
    "from sklearn.model_selection import train_test_split\n",
    "from sklearn.feature_selection import SelectKBest\n",
    "from sklearn.feature_selection import f_regression"
   ]
  },
  {
   "cell_type": "code",
   "execution_count": 82,
   "id": "6775f752",
   "metadata": {},
   "outputs": [
    {
     "name": "stdout",
     "output_type": "stream",
     "text": [
      "[[ 0.66458604  3.          0.64639567 ...  0.          0.\n",
      "   1.        ]\n",
      " [-0.87256276  3.          0.23168926 ...  1.          0.\n",
      "   0.        ]\n",
      " [-0.87256276  3.          0.36201683 ...  0.          0.\n",
      "   1.        ]\n",
      " ...\n",
      " [-0.87256276  3.         -0.24705417 ...  0.          0.\n",
      "   1.        ]\n",
      " [-0.16310947  3.         -0.51728408 ...  0.          0.\n",
      "   1.        ]\n",
      " [ 1.49228154  3.         -0.63232259 ...  0.          0.\n",
      "   1.        ]]\n",
      "[[-0.87256276  3.          0.23168926 ...  0.          0.\n",
      "   1.        ]\n",
      " [ 0.07337496  3.          1.27666597 ...  0.          0.\n",
      "   1.        ]\n",
      " [-0.63607833  4.         -0.46132428 ...  0.          0.\n",
      "   1.        ]\n",
      " ...\n",
      " [ 0.07337496  3.         -1.07224445 ...  0.          0.\n",
      "   1.        ]\n",
      " [-0.87256276  3.         -1.83351754 ...  0.          0.\n",
      "   1.        ]\n",
      " [-0.16310947  3.         -0.81328745 ...  0.          0.\n",
      "   1.        ]]\n",
      "SelectKBest(k='all', score_func=<function f_regression at 0x00000215242B3EE0>)\n"
     ]
    }
   ],
   "source": [
    "# configure to select all features\n",
    "fs = SelectKBest(score_func=f_regression, k='all')\n",
    "# learn relationship from training data\n",
    "fs.fit(X_train, y_train)\n",
    "# transform train input data\n",
    "X_train_fs = fs.transform(X_train)\n",
    "# transform test input data\n",
    "X_test_fs = fs.transform(X_test)\n",
    "print(X_train_fs) \n",
    "print(X_test_fs)\n",
    "print(fs)"
   ]
  },
  {
   "cell_type": "code",
   "execution_count": 83,
   "id": "c519f421",
   "metadata": {},
   "outputs": [],
   "source": [
    "import matplotlib.pyplot as plt"
   ]
  },
  {
   "cell_type": "code",
   "execution_count": 84,
   "id": "0eef57fd",
   "metadata": {},
   "outputs": [
    {
     "name": "stdout",
     "output_type": "stream",
     "text": [
      "Feature 0: 10.019839\n",
      "Feature 1: 40.774917\n",
      "Feature 2: 106.701111\n",
      "Feature 3: 75.604001\n",
      "Feature 4: 0.017610\n",
      "Feature 5: 55.270919\n",
      "Feature 6: 0.001959\n",
      "Feature 7: 0.326907\n",
      "Feature 8: 0.540190\n",
      "Feature 9: 6.843808\n",
      "Feature 10: 7.364512\n",
      "Feature 11: 1579.075242\n",
      "Feature 12: 4.651362\n",
      "Feature 13: 357.477597\n",
      "Feature 14: 365.768894\n",
      "Feature 15: 49.561754\n",
      "Feature 16: 0.950521\n",
      "Feature 17: 180.485381\n",
      "Feature 18: 589.539687\n",
      "Feature 19: 20.604019\n",
      "Feature 20: 144.626680\n",
      "Feature 21: 550.841809\n",
      "Feature 22: 6.149227\n",
      "Feature 23: 100.756861\n",
      "Feature 24: 5.274337\n",
      "Feature 25: 141.845226\n",
      "Feature 26: 0.079603\n",
      "Feature 27: 0.008230\n",
      "Feature 28: 53.039936\n",
      "Feature 29: 521.882716\n",
      "Feature 30: 9.008291\n",
      "Feature 31: 204.040644\n",
      "Feature 32: 79.072705\n",
      "Feature 33: 55.748040\n",
      "Feature 34: 501.613274\n",
      "Feature 35: 90.004688\n",
      "Feature 36: 0.013533\n",
      "Feature 37: 824.979408\n",
      "Feature 38: 58.463805\n",
      "Feature 39: 2.681404\n",
      "Feature 40: 402.863882\n",
      "Feature 41: 78.624768\n",
      "Feature 42: 23.799477\n",
      "Feature 43: 23.122425\n",
      "Feature 44: 464.074076\n",
      "Feature 45: 355.552977\n",
      "Feature 46: 261.348986\n",
      "Feature 47: 6.035762\n",
      "Feature 48: 97.168480\n",
      "Feature 49: 169.922996\n",
      "Feature 50: 384.077865\n",
      "Feature 51: 696.398232\n",
      "Feature 52: 628.535291\n",
      "Feature 53: 6.875182\n",
      "Feature 54: 19.271068\n",
      "Feature 55: 57.450035\n",
      "Feature 56: 124.270506\n",
      "Feature 57: 77.699876\n",
      "Feature 58: 20.996265\n",
      "Feature 59: 3.807175\n",
      "Feature 60: 16.659069\n",
      "Feature 61: 1.993186\n",
      "Feature 62: 0.279237\n",
      "Feature 63: 2.612536\n",
      "Feature 64: 0.118967\n",
      "Feature 65: 52.595534\n",
      "Feature 66: 0.287800\n",
      "Feature 67: 0.561149\n",
      "Feature 68: 13.175401\n",
      "Feature 69: 26.884330\n",
      "Feature 70: 6.191815\n",
      "Feature 71: 7.958386\n",
      "Feature 72: 7.242071\n",
      "Feature 73: 37.085304\n",
      "Feature 74: 2.976931\n",
      "Feature 75: 25.846015\n",
      "Feature 76: 11.021425\n",
      "Feature 77: 2.993783\n",
      "Feature 78: 33.983146\n",
      "Feature 79: 1.197395\n",
      "Feature 80: 0.619992\n",
      "Feature 81: 91.947810\n",
      "Feature 82: 180.856972\n",
      "Feature 83: 36.745048\n",
      "Feature 84: 4.321679\n",
      "Feature 85: 14.791518\n",
      "Feature 86: 0.083518\n",
      "Feature 87: 16.714890\n",
      "Feature 88: 50.858474\n",
      "Feature 89: 15.796326\n",
      "Feature 90: 6.586563\n",
      "Feature 91: 12.761975\n",
      "Feature 92: 15.590343\n",
      "Feature 93: 16.758786\n",
      "Feature 94: 0.556446\n",
      "Feature 95: 3.353548\n",
      "Feature 96: 2.945643\n",
      "Feature 97: 0.169460\n",
      "Feature 98: 0.006107\n",
      "Feature 99: 0.013711\n",
      "Feature 100: 1.921110\n",
      "Feature 101: 1.525000\n",
      "Feature 102: 0.374592\n",
      "Feature 103: 0.000000\n",
      "Feature 104: 3.733584\n",
      "Feature 105: 0.013814\n",
      "Feature 106: 0.335905\n",
      "Feature 107: 0.000000\n",
      "Feature 108: 27.774907\n",
      "Feature 109: 8.736403\n",
      "Feature 110: 1.530703\n",
      "Feature 111: 4.027080\n",
      "Feature 112: 2.100855\n",
      "Feature 113: 46.588809\n",
      "Feature 114: 6.736368\n",
      "Feature 115: 1.400227\n",
      "Feature 116: 0.076344\n",
      "Feature 117: 5.936555\n",
      "Feature 118: 0.000000\n",
      "Feature 119: 0.000189\n",
      "Feature 120: 0.334460\n",
      "Feature 121: 0.201088\n",
      "Feature 122: 1.369243\n",
      "Feature 123: 20.802712\n",
      "Feature 124: 12.507146\n",
      "Feature 125: 1.133290\n",
      "Feature 126: 1.693553\n",
      "Feature 127: 5.347993\n",
      "Feature 128: 0.997633\n",
      "Feature 129: 21.298529\n",
      "Feature 130: 13.823511\n",
      "Feature 131: 0.000000\n",
      "Feature 132: 26.966037\n",
      "Feature 133: 0.013795\n",
      "Feature 134: 0.413149\n",
      "Feature 135: 0.071122\n",
      "Feature 136: 102.029415\n",
      "Feature 137: 37.846298\n",
      "Feature 138: 1.788447\n",
      "Feature 139: 9.969839\n",
      "Feature 140: 1.308680\n",
      "Feature 141: 1.743236\n",
      "Feature 142: 8.037228\n",
      "Feature 143: 0.997633\n",
      "Feature 144: 18.889510\n",
      "Feature 145: 8.118782\n",
      "Feature 146: 1.144762\n",
      "Feature 147: 25.602779\n",
      "Feature 148: 3.290698\n",
      "Feature 149: 2.999457\n",
      "Feature 150: 0.122563\n",
      "Feature 151: 0.003029\n",
      "Feature 152: 105.081583\n",
      "Feature 153: 26.598956\n",
      "Feature 154: 1.530997\n",
      "Feature 155: 1.002630\n",
      "Feature 156: 4.094241\n",
      "Feature 157: 4.205065\n",
      "Feature 158: 6.715692\n",
      "Feature 159: 0.000239\n",
      "Feature 160: 0.467049\n",
      "Feature 161: 13.104787\n",
      "Feature 162: 8.254593\n",
      "Feature 163: 0.604272\n",
      "Feature 164: 3.534438\n",
      "Feature 165: 1.474573\n",
      "Feature 166: 0.541637\n",
      "Feature 167: 1.308680\n",
      "Feature 168: 146.201700\n",
      "Feature 169: 0.166141\n",
      "Feature 170: 64.731089\n"
     ]
    },
    {
     "data": {
      "image/png": "[encoded data removed]",
      "text/plain": [
       "<Figure size 432x288 with 1 Axes>"
      ]
     },
     "metadata": {
      "needs_background": "light"
     },
     "output_type": "display_data"
    }
   ],
   "source": [
    "for i in range(len(fs.scores_)):\n",
    " print('Feature %d: %f' % (i, fs.scores_[i]))\n",
    "# plot the scores\n",
    "plt.bar([i for i in range(len(fs.scores_))], fs.scores_)\n",
    "plt.show()"
   ]
  },
  {
   "cell_type": "code",
   "execution_count": 86,
   "id": "c32ea2af",
   "metadata": {},
   "outputs": [
    {
     "data": {
      "text/plain": [
       "[12, 14, 15, 19, 22, 30, 32, 35, 38, 41, 45, 46, 47, 51, 52, 53, 172]"
      ]
     },
     "execution_count": 86,
     "metadata": {},
     "output_type": "execute_result"
    }
   ],
   "source": [
    "index1 = []\n",
    "for i in range(0,len(fs.scores_)):\n",
    "  if(fs.scores_[i]>=200):\n",
    "    index1.append(i+1)\n",
    "index1.append(len(list(dff.columns))-1)   # we are including the normlaized target column also \n",
    "index1"
   ]
  },
  {
   "cell_type": "markdown",
   "id": "72ba5ecf",
   "metadata": {},
   "source": [
    "##  b. Building a new dataframe from important columns and applying Random Forest Algorithm"
   ]
  },
  {
   "cell_type": "code",
   "execution_count": 88,
   "id": "863bbc3d",
   "metadata": {},
   "outputs": [
    {
     "data": {
      "text/html": [
       "<div>\n",
       "<style scoped>\n",
       "    .dataframe tbody tr th:only-of-type {\n",
       "        vertical-align: middle;\n",
       "    }\n",
       "\n",
       "    .dataframe tbody tr th {\n",
       "        vertical-align: top;\n",
       "    }\n",
       "\n",
       "    .dataframe thead th {\n",
       "        text-align: right;\n",
       "    }\n",
       "</style>\n",
       "<table border=\"1\" class=\"dataframe\">\n",
       "  <thead>\n",
       "    <tr style=\"text-align: right;\">\n",
       "      <th></th>\n",
       "      <th>OverallQual</th>\n",
       "      <th>YearBuilt</th>\n",
       "      <th>YearRemodAdd</th>\n",
       "      <th>ExterQual</th>\n",
       "      <th>BsmtQual</th>\n",
       "      <th>TotalBsmtSF</th>\n",
       "      <th>HeatingQC</th>\n",
       "      <th>1stFlrSF</th>\n",
       "      <th>GrLivArea</th>\n",
       "      <th>FullBath</th>\n",
       "      <th>KitchenQual</th>\n",
       "      <th>TotRmsAbvGrd</th>\n",
       "      <th>Fireplaces</th>\n",
       "      <th>GarageFinish</th>\n",
       "      <th>GarageCars</th>\n",
       "      <th>GarageArea</th>\n",
       "      <th>SalePrice</th>\n",
       "    </tr>\n",
       "  </thead>\n",
       "  <tbody>\n",
       "    <tr>\n",
       "      <th>0</th>\n",
       "      <td>0.651479</td>\n",
       "      <td>1.050994</td>\n",
       "      <td>0.878668</td>\n",
       "      <td>2</td>\n",
       "      <td>2</td>\n",
       "      <td>-0.459303</td>\n",
       "      <td>0</td>\n",
       "      <td>-0.793434</td>\n",
       "      <td>0.370333</td>\n",
       "      <td>0.789741</td>\n",
       "      <td>2</td>\n",
       "      <td>0.912210</td>\n",
       "      <td>-0.951226</td>\n",
       "      <td>1</td>\n",
       "      <td>0.311725</td>\n",
       "      <td>0.351000</td>\n",
       "      <td>208500</td>\n",
       "    </tr>\n",
       "    <tr>\n",
       "      <th>1</th>\n",
       "      <td>-0.071836</td>\n",
       "      <td>0.156734</td>\n",
       "      <td>-0.429577</td>\n",
       "      <td>3</td>\n",
       "      <td>2</td>\n",
       "      <td>0.466465</td>\n",
       "      <td>0</td>\n",
       "      <td>0.257140</td>\n",
       "      <td>-0.482512</td>\n",
       "      <td>0.789741</td>\n",
       "      <td>3</td>\n",
       "      <td>-0.318683</td>\n",
       "      <td>0.600495</td>\n",
       "      <td>1</td>\n",
       "      <td>0.311725</td>\n",
       "      <td>-0.060731</td>\n",
       "      <td>181500</td>\n",
       "    </tr>\n",
       "    <tr>\n",
       "      <th>2</th>\n",
       "      <td>0.651479</td>\n",
       "      <td>0.984752</td>\n",
       "      <td>0.830215</td>\n",
       "      <td>2</td>\n",
       "      <td>2</td>\n",
       "      <td>-0.313369</td>\n",
       "      <td>0</td>\n",
       "      <td>-0.627826</td>\n",
       "      <td>0.515013</td>\n",
       "      <td>0.789741</td>\n",
       "      <td>2</td>\n",
       "      <td>-0.318683</td>\n",
       "      <td>0.600495</td>\n",
       "      <td>1</td>\n",
       "      <td>0.311725</td>\n",
       "      <td>0.631726</td>\n",
       "      <td>223500</td>\n",
       "    </tr>\n",
       "    <tr>\n",
       "      <th>3</th>\n",
       "      <td>0.651479</td>\n",
       "      <td>-1.863632</td>\n",
       "      <td>-0.720298</td>\n",
       "      <td>3</td>\n",
       "      <td>3</td>\n",
       "      <td>-0.687324</td>\n",
       "      <td>2</td>\n",
       "      <td>-0.521734</td>\n",
       "      <td>0.383659</td>\n",
       "      <td>-1.026041</td>\n",
       "      <td>2</td>\n",
       "      <td>0.296763</td>\n",
       "      <td>0.600495</td>\n",
       "      <td>2</td>\n",
       "      <td>1.650307</td>\n",
       "      <td>0.790804</td>\n",
       "      <td>140000</td>\n",
       "    </tr>\n",
       "    <tr>\n",
       "      <th>4</th>\n",
       "      <td>1.374795</td>\n",
       "      <td>0.951632</td>\n",
       "      <td>0.733308</td>\n",
       "      <td>2</td>\n",
       "      <td>2</td>\n",
       "      <td>0.199680</td>\n",
       "      <td>0</td>\n",
       "      <td>-0.045611</td>\n",
       "      <td>1.299326</td>\n",
       "      <td>0.789741</td>\n",
       "      <td>2</td>\n",
       "      <td>1.527656</td>\n",
       "      <td>0.600495</td>\n",
       "      <td>1</td>\n",
       "      <td>1.650307</td>\n",
       "      <td>1.698485</td>\n",
       "      <td>250000</td>\n",
       "    </tr>\n",
       "    <tr>\n",
       "      <th>...</th>\n",
       "      <td>...</td>\n",
       "      <td>...</td>\n",
       "      <td>...</td>\n",
       "      <td>...</td>\n",
       "      <td>...</td>\n",
       "      <td>...</td>\n",
       "      <td>...</td>\n",
       "      <td>...</td>\n",
       "      <td>...</td>\n",
       "      <td>...</td>\n",
       "      <td>...</td>\n",
       "      <td>...</td>\n",
       "      <td>...</td>\n",
       "      <td>...</td>\n",
       "      <td>...</td>\n",
       "      <td>...</td>\n",
       "      <td>...</td>\n",
       "    </tr>\n",
       "    <tr>\n",
       "      <th>1455</th>\n",
       "      <td>-0.071836</td>\n",
       "      <td>0.918511</td>\n",
       "      <td>0.733308</td>\n",
       "      <td>3</td>\n",
       "      <td>2</td>\n",
       "      <td>-0.238122</td>\n",
       "      <td>0</td>\n",
       "      <td>-0.542435</td>\n",
       "      <td>0.250402</td>\n",
       "      <td>0.789741</td>\n",
       "      <td>3</td>\n",
       "      <td>0.296763</td>\n",
       "      <td>0.600495</td>\n",
       "      <td>1</td>\n",
       "      <td>0.311725</td>\n",
       "      <td>-0.060731</td>\n",
       "      <td>175000</td>\n",
       "    </tr>\n",
       "    <tr>\n",
       "      <th>1456</th>\n",
       "      <td>-0.071836</td>\n",
       "      <td>0.222975</td>\n",
       "      <td>0.151865</td>\n",
       "      <td>3</td>\n",
       "      <td>2</td>\n",
       "      <td>1.104925</td>\n",
       "      <td>4</td>\n",
       "      <td>2.355701</td>\n",
       "      <td>1.061367</td>\n",
       "      <td>0.789741</td>\n",
       "      <td>3</td>\n",
       "      <td>0.296763</td>\n",
       "      <td>2.152216</td>\n",
       "      <td>2</td>\n",
       "      <td>0.311725</td>\n",
       "      <td>0.126420</td>\n",
       "      <td>210000</td>\n",
       "    </tr>\n",
       "    <tr>\n",
       "      <th>1457</th>\n",
       "      <td>0.651479</td>\n",
       "      <td>-1.002492</td>\n",
       "      <td>1.024029</td>\n",
       "      <td>0</td>\n",
       "      <td>3</td>\n",
       "      <td>0.215641</td>\n",
       "      <td>0</td>\n",
       "      <td>0.065656</td>\n",
       "      <td>1.569647</td>\n",
       "      <td>0.789741</td>\n",
       "      <td>2</td>\n",
       "      <td>1.527656</td>\n",
       "      <td>2.152216</td>\n",
       "      <td>1</td>\n",
       "      <td>-1.026858</td>\n",
       "      <td>-1.033914</td>\n",
       "      <td>266500</td>\n",
       "    </tr>\n",
       "    <tr>\n",
       "      <th>1458</th>\n",
       "      <td>-0.795151</td>\n",
       "      <td>-0.704406</td>\n",
       "      <td>0.539493</td>\n",
       "      <td>3</td>\n",
       "      <td>3</td>\n",
       "      <td>0.046905</td>\n",
       "      <td>2</td>\n",
       "      <td>-0.218982</td>\n",
       "      <td>-0.832788</td>\n",
       "      <td>-1.026041</td>\n",
       "      <td>2</td>\n",
       "      <td>-0.934130</td>\n",
       "      <td>-0.951226</td>\n",
       "      <td>2</td>\n",
       "      <td>-1.026858</td>\n",
       "      <td>-1.090059</td>\n",
       "      <td>142125</td>\n",
       "    </tr>\n",
       "    <tr>\n",
       "      <th>1459</th>\n",
       "      <td>-0.795151</td>\n",
       "      <td>-0.207594</td>\n",
       "      <td>-0.962566</td>\n",
       "      <td>2</td>\n",
       "      <td>3</td>\n",
       "      <td>0.452784</td>\n",
       "      <td>2</td>\n",
       "      <td>0.241615</td>\n",
       "      <td>-0.493934</td>\n",
       "      <td>-1.026041</td>\n",
       "      <td>3</td>\n",
       "      <td>-0.318683</td>\n",
       "      <td>-0.951226</td>\n",
       "      <td>0</td>\n",
       "      <td>-1.026858</td>\n",
       "      <td>-0.921624</td>\n",
       "      <td>147500</td>\n",
       "    </tr>\n",
       "  </tbody>\n",
       "</table>\n",
       "<p>1460 rows × 17 columns</p>\n",
       "</div>"
      ],
      "text/plain": [
       "      OverallQual  YearBuilt  YearRemodAdd  ExterQual  BsmtQual  TotalBsmtSF  \\\n",
       "0        0.651479   1.050994      0.878668          2         2    -0.459303   \n",
       "1       -0.071836   0.156734     -0.429577          3         2     0.466465   \n",
       "2        0.651479   0.984752      0.830215          2         2    -0.313369   \n",
       "3        0.651479  -1.863632     -0.720298          3         3    -0.687324   \n",
       "4        1.374795   0.951632      0.733308          2         2     0.199680   \n",
       "...           ...        ...           ...        ...       ...          ...   \n",
       "1455    -0.071836   0.918511      0.733308          3         2    -0.238122   \n",
       "1456    -0.071836   0.222975      0.151865          3         2     1.104925   \n",
       "1457     0.651479  -1.002492      1.024029          0         3     0.215641   \n",
       "1458    -0.795151  -0.704406      0.539493          3         3     0.046905   \n",
       "1459    -0.795151  -0.207594     -0.962566          2         3     0.452784   \n",
       "\n",
       "      HeatingQC  1stFlrSF  GrLivArea  FullBath  KitchenQual  TotRmsAbvGrd  \\\n",
       "0             0 -0.793434   0.370333  0.789741            2      0.912210   \n",
       "1             0  0.257140  -0.482512  0.789741            3     -0.318683   \n",
       "2             0 -0.627826   0.515013  0.789741            2     -0.318683   \n",
       "3             2 -0.521734   0.383659 -1.026041            2      0.296763   \n",
       "4             0 -0.045611   1.299326  0.789741            2      1.527656   \n",
       "...         ...       ...        ...       ...          ...           ...   \n",
       "1455          0 -0.542435   0.250402  0.789741            3      0.296763   \n",
       "1456          4  2.355701   1.061367  0.789741            3      0.296763   \n",
       "1457          0  0.065656   1.569647  0.789741            2      1.527656   \n",
       "1458          2 -0.218982  -0.832788 -1.026041            2     -0.934130   \n",
       "1459          2  0.241615  -0.493934 -1.026041            3     -0.318683   \n",
       "\n",
       "      Fireplaces  GarageFinish  GarageCars  GarageArea  SalePrice  \n",
       "0      -0.951226             1    0.311725    0.351000     208500  \n",
       "1       0.600495             1    0.311725   -0.060731     181500  \n",
       "2       0.600495             1    0.311725    0.631726     223500  \n",
       "3       0.600495             2    1.650307    0.790804     140000  \n",
       "4       0.600495             1    1.650307    1.698485     250000  \n",
       "...          ...           ...         ...         ...        ...  \n",
       "1455    0.600495             1    0.311725   -0.060731     175000  \n",
       "1456    2.152216             2    0.311725    0.126420     210000  \n",
       "1457    2.152216             1   -1.026858   -1.033914     266500  \n",
       "1458   -0.951226             2   -1.026858   -1.090059     142125  \n",
       "1459   -0.951226             0   -1.026858   -0.921624     147500  \n",
       "\n",
       "[1460 rows x 17 columns]"
      ]
     },
     "execution_count": 88,
     "metadata": {},
     "output_type": "execute_result"
    }
   ],
   "source": [
    "fit_dff = dff.iloc[:,index1]\n",
    "fit_dff"
   ]
  },
  {
   "cell_type": "code",
   "execution_count": 89,
   "id": "6a2423bf",
   "metadata": {},
   "outputs": [],
   "source": [
    "import pandas as pd\n",
    "import numpy as np\n",
    "from sklearn.ensemble import RandomForestRegressor\n",
    "from sklearn.model_selection import train_test_split\n",
    "from sklearn.metrics import r2_score, mean_squared_error\n",
    "\n",
    "# Load the dataset\n",
    "\n",
    "# Splitting the data into training and testing sets\n",
    "X = fit_dff.iloc[:, 0:-1].values\n",
    "y = fit_dff.iloc[:, -1].values\n",
    "X_train, X_test, y_train, y_test = train_test_split(X, y, test_size=0.4, random_state=0)\n",
    "\n",
    "# Training the model\n",
    "rf_model = RandomForestRegressor(n_estimators=100, random_state=0)\n",
    "rf_model.fit(X_train, y_train)\n",
    "\n",
    "# Predicting the target values\n",
    "y_pred = rf_model.predict(X_test)"
   ]
  },
  {
   "cell_type": "code",
   "execution_count": 90,
   "id": "27532023",
   "metadata": {},
   "outputs": [
    {
     "name": "stdout",
     "output_type": "stream",
     "text": [
      "Mean Absoulute error is : 18922.447101272017\n",
      "Mean Squared error is: 910420217.325716\n",
      "Root Mean Square error is: 30173.170488460706\n",
      "R2 score is: 0.8538591834049066\n"
     ]
    }
   ],
   "source": [
    "Emetrics(y_test,y_pred)"
   ]
  },
  {
   "cell_type": "code",
   "execution_count": null,
   "id": "ca567de0",
   "metadata": {},
   "outputs": [],
   "source": []
  },
  {
   "cell_type": "code",
   "execution_count": null,
   "id": "a806751b",
   "metadata": {},
   "outputs": [],
   "source": []
  }
 ],
 "metadata": {
  "kernelspec": {
   "display_name": "Python 3 (ipykernel)",
   "language": "python",
   "name": "python3"
  },
  "language_info": {
   "codemirror_mode": {
    "name": "ipython",
    "version": 3
   },
   "file_extension": ".py",
   "mimetype": "text/x-python",
   "name": "python",
   "nbconvert_exporter": "python",
   "pygments_lexer": "ipython3",
   "version": "3.9.13"
  }
 },
 "nbformat": 4,
 "nbformat_minor": 5
}
